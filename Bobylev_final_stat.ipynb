{
 "cells": [
  {
   "cell_type": "markdown",
   "id": "3b966271",
   "metadata": {
    "id": "3b966271",
    "nbgrader": {
     "grade": false,
     "grade_id": "cell-369809025cbfb1e4",
     "locked": true,
     "schema_version": 3,
     "solution": false,
     "task": false
    }
   },
   "source": [
    "# Statistics basics\n",
    "## Final project\n",
    "Good news! You are hired by some retail company to analyse transaction statistics in a retail chain. (Sorry, this is just an imaginary company so far, but if you successfully finish our program, I'm sure it will become reality.)\n",
    "\n",
    "You have to use everything that we learned so far to answer questions that are asked by your employer.\n",
    "\n",
    "Part of the questions require that you write some code that will be automatically tested with autograding. So when you are finished, please, send this work to automatic grading.\n",
    "\n",
    "The other part of questions are presented in the appropriate quiz. Answer them using your results.\n",
    "\n",
    "Finally, some problems will be assessed manually. So, please, submit your notebook to staff graded assignment as well.\n",
    "\n",
    "Note you are not allowed to use loops anywhere in this project!\n",
    "\n",
    "Let's begin!\n",
    "\n",
    "### Data\n",
    "\n",
    "There are three datasets: `customers.csv`, `purchases.csv` and `shops.csv`. They are stored in `data` folder.\n",
    "\n",
    "`customers.csv` contains information about each customer registered in loyalty program.\n",
    "\n",
    "`shops.csv` contains information about shops and special offers they organized. One shap can organize several offers and therefore there are usually several rows that correspond to the same shops. However, some shops do not organize special offers at all, but they are presented in this table nevertheless.\n",
    "\n",
    "`purchases.csv` is a purchase log. It contains information for all customers, either registered in a loyalty program (in this case we know the corresponding customer id) or not registered. One purchase can be a collection of several items, but we see only the total price of everything bought."
   ]
  },
  {
   "cell_type": "markdown",
   "id": "959cfc52",
   "metadata": {
    "id": "959cfc52"
   },
   "source": [
    "First, let us load these datasets and make a quick glance on them."
   ]
  },
  {
   "cell_type": "markdown",
   "id": "b4f3f942",
   "metadata": {
    "id": "b4f3f942",
    "nbgrader": {
     "grade": false,
     "grade_id": "cell-a2f0b3be149e1b44",
     "locked": true,
     "schema_version": 3,
     "solution": false,
     "task": false
    }
   },
   "source": [
    "### Problem 1 \n",
    "Load datasets intro variables `customers`, `purchases` and `shops`. Use `pd.read_csv`."
   ]
  },
  {
   "cell_type": "code",
   "execution_count": 1,
   "id": "08197527",
   "metadata": {
    "id": "08197527"
   },
   "outputs": [],
   "source": [
    "import pandas as pd\n",
    "import matplotlib.pyplot as plt\n",
    "\n",
    "%matplotlib inline"
   ]
  },
  {
   "cell_type": "code",
   "execution_count": 2,
   "id": "16c60f2e",
   "metadata": {
    "id": "16c60f2e"
   },
   "outputs": [],
   "source": [
    "customers = pd.read_csv('https://github.com/mbburova/MDS/raw/main/customers.csv', sep = ',')\n",
    "purchases = pd.read_csv('https://github.com/mbburova/MDS/raw/main/purchases.csv', sep = ',')\n",
    "shops = pd.read_csv('https://github.com/mbburova/MDS/raw/main/shops.csv')"
   ]
  },
  {
   "cell_type": "markdown",
   "id": "d97a5d25",
   "metadata": {
    "id": "d97a5d25"
   },
   "source": [
    "### Problem 2 (quiz)"
   ]
  },
  {
   "cell_type": "markdown",
   "id": "5bbe0a1c",
   "metadata": {
    "id": "5bbe0a1c",
    "nbgrader": {
     "grade": false,
     "grade_id": "cell-277368782ff4455f",
     "locked": true,
     "schema_version": 3,
     "solution": false,
     "task": false
    }
   },
   "source": [
    "Investigate dataframes and answer the following questions (in the appropriate Quiz):\n",
    "\n",
    "1. What is the type of variable `customer_id` in the dataset `purchases`?\n",
    "2. What is the type of variable `age` in the dataset `customers`?\n",
    "\n",
    "Note that you have to provide your answers based on the meaning of the data, not on the Python object types of the corresponding column."
   ]
  },
  {
   "cell_type": "markdown",
   "id": "c8be3dae",
   "metadata": {},
   "source": [
    "Customer_id is a caterogical variable, while age is a numeric variable. Variable age has some 'math' sense inside it (the bigger the number the older you are), while customer_id only means order of customers.\n"
   ]
  },
  {
   "cell_type": "markdown",
   "id": "daf262b6",
   "metadata": {
    "id": "daf262b6",
    "nbgrader": {
     "grade": false,
     "grade_id": "cell-27d72da45a2d686e",
     "locked": true,
     "schema_version": 3,
     "solution": false,
     "task": false
    }
   },
   "source": [
    "### Problem 3 (SGA)\n",
    "Let us consider column `total_price` in the dataset `purchases`. May we assume that this column is an i.i.d. sample from some random variable? Write your answer and full explanation in the cell below.\n"
   ]
  },
  {
   "cell_type": "markdown",
   "id": "1d7c322c",
   "metadata": {
    "id": "2b63a595",
    "nbgrader": {
     "grade": true,
     "grade_id": "cell-1dbb612417aee226",
     "locked": false,
     "points": 1,
     "schema_version": 3,
     "solution": true,
     "task": false
    }
   },
   "source": [
    "In my opinion, we need more data to answer this question. Firstly, we do not know how our sample shops relates to the general population of shops. What shops we collected data from? Maybe only prestigious shops located in 'rich' districts? Or vice versa? So, we can not call this sample identically distributed, as we do not know this exactly.\n",
    "\n",
    "Same can be said about dependency of our sample. As we know, this sample includes some purchases from one customer, so we can assume price of these purchases will depend on the customers income. We need to conduct more rigorous testing to check this. "
   ]
  },
  {
   "cell_type": "markdown",
   "id": "348b2208",
   "metadata": {
    "id": "348b2208",
    "nbgrader": {
     "grade": false,
     "grade_id": "cell-74b47122f0488db1",
     "locked": true,
     "schema_version": 3,
     "solution": false,
     "task": false
    }
   },
   "source": [
    "### Problem 4 (quiz)\n",
    "Visualise distribution of variable `age` in the dataset `customers` using appropriate visualization tool.\n"
   ]
  },
  {
   "cell_type": "code",
   "execution_count": 3,
   "id": "fca53f72",
   "metadata": {
    "deletable": false,
    "id": "fca53f72"
   },
   "outputs": [
    {
     "data": {
      "text/plain": [
       "(array([ 72., 119., 100., 117.,  92., 115.,  91.,  62.,  43.,  13.]),\n",
       " array([12. , 19.6, 27.2, 34.8, 42.4, 50. , 57.6, 65.2, 72.8, 80.4, 88. ]),\n",
       " <BarContainer object of 10 artists>)"
      ]
     },
     "execution_count": 3,
     "metadata": {},
     "output_type": "execute_result"
    },
    {
     "data": {
      "image/png": "[encoded data removed]",
      "text/plain": [
       "<Figure size 640x480 with 1 Axes>"
      ]
     },
     "metadata": {},
     "output_type": "display_data"
    }
   ],
   "source": [
    "plt.hist(customers['age'], bins = 10)"
   ]
  },
  {
   "cell_type": "markdown",
   "id": "ffd6ec46",
   "metadata": {
    "id": "ffd6ec46"
   },
   "source": [
    "### Problem 5 (quiz)\n",
    "Your employer is going to provide two special offers for all registered customers based on the customer age. They want to pick some threshold age, and offer one special program to customers who are younger than this threshold age and another special program to customers who are older than this age. They want to choose the threshold in such a way that the number of potential participants of both programs coincide (or at least be as close to each other as possible). What is the threshold?"
   ]
  },
  {
   "cell_type": "code",
   "execution_count": 4,
   "id": "58e89991",
   "metadata": {
    "deletable": false,
    "id": "58e89991"
   },
   "outputs": [
    {
     "name": "stdout",
     "output_type": "stream",
     "text": [
      "Required threshold is 43.0\n"
     ]
    }
   ],
   "source": [
    "print(f\"Required threshold is {customers['age'].median()}\")"
   ]
  },
  {
   "cell_type": "markdown",
   "id": "a538b39b",
   "metadata": {
    "id": "a538b39b"
   },
   "source": [
    "### Problem 6 (quiz)\n",
    "\n",
    "Let us visualize how purchases are distributed around a year. For example, it is known that December is a hot month for retail due to Christmas. Will you see it in the data? Are there any other tendencies we will see?\n",
    "\n",
    "To do it, we have to extract a month from the `date` variable of `purchases` table and create a new variable (new dataframe column) that contains this month, then plot distribution of this variable. There is a special data type in pandas to represent date and time. However, by default `pd.read_csv` does not try to guess that a particular column contains something that looks like a date and reads it just as a column of strings. So let's convert this column manually using function `pd.to_datetime` first:\n"
   ]
  },
  {
   "cell_type": "code",
   "execution_count": 5,
   "id": "65c6dde9",
   "metadata": {
    "id": "65c6dde9"
   },
   "outputs": [],
   "source": [
    "purchases[\"date\"] = pd.to_datetime(purchases[\"date\"])"
   ]
  },
  {
   "cell_type": "markdown",
   "id": "0e72fb08",
   "metadata": {
    "id": "0e72fb08"
   },
   "source": [
    "Let's check that `date` has correct `dtype`:"
   ]
  },
  {
   "cell_type": "code",
   "execution_count": 6,
   "id": "63282db2",
   "metadata": {
    "id": "63282db2"
   },
   "outputs": [
    {
     "data": {
      "text/plain": [
       "dtype('<M8[ns]')"
      ]
     },
     "execution_count": 6,
     "metadata": {},
     "output_type": "execute_result"
    }
   ],
   "source": [
    "purchases[\"date\"].dtype"
   ]
  },
  {
   "cell_type": "markdown",
   "id": "f6b8d8cb",
   "metadata": {
    "id": "f6b8d8cb"
   },
   "source": [
    "This should return something like `dtype('datetime64[ns]')` or `dtype('<M8[ns]')`. It is much easier to work with dates when they are converted to native datetime format instead of strings. For example, you can find the difference between two dates and do a lot of other things. To extract different features of date like month of even day of week, one can use `.dt` accessor (similar to using `.str` accessor to access string methods), see [documentation](https://pandas.pydata.org/pandas-docs/stable/user_guide/timeseries.html#time-date-components) for details. For example, this is how we can extract day of week (Monday=0, Sunday=6):"
   ]
  },
  {
   "cell_type": "code",
   "execution_count": 7,
   "id": "c580e547",
   "metadata": {
    "id": "c580e547"
   },
   "outputs": [
    {
     "data": {
      "text/plain": [
       "0        4\n",
       "1        5\n",
       "2        6\n",
       "3        5\n",
       "4        5\n",
       "        ..\n",
       "40397    5\n",
       "40398    5\n",
       "40399    2\n",
       "40400    5\n",
       "40401    5\n",
       "Name: date, Length: 40402, dtype: int64"
      ]
     },
     "execution_count": 7,
     "metadata": {},
     "output_type": "execute_result"
    }
   ],
   "source": [
    "purchases[\"date\"].dt.dayofweek"
   ]
  },
  {
   "cell_type": "markdown",
   "id": "31fb37ce",
   "metadata": {
    "id": "31fb37ce"
   },
   "source": [
    "Now let us return to our problem here. We want to make a plot that shows how many purchases we have per month. In other words, we want to create and consider new variable `month`. This is a categorical variable. Use an appropriate tool to visualize it.\n",
    "\n",
    "Make this bar plot. \n",
    "\n",
    "**Hint.** To sort the values on the horizontal axis one can use `.sort_index()`.\n"
   ]
  },
  {
   "cell_type": "code",
   "execution_count": 8,
   "id": "0d0a7d28",
   "metadata": {},
   "outputs": [],
   "source": [
    "purchases['month'] = purchases['date'].dt.month"
   ]
  },
  {
   "cell_type": "code",
   "execution_count": null,
   "id": "6400fc6b",
   "metadata": {
    "deletable": false,
    "id": "6400fc6b",
    "nbgrader": {
     "checksum": "fe3fa9d208804f31db3a95680239a8e9",
     "grade": false,
     "grade_id": "cell-fab958f31a3bfdb3",
     "locked": false,
     "schema_version": 3,
     "solution": true,
     "task": false
    }
   },
   "outputs": [],
   "source": []
  },
  {
   "cell_type": "code",
   "execution_count": 9,
   "id": "7a021651",
   "metadata": {},
   "outputs": [],
   "source": [
    "s = purchases['month'].value_counts().sort_index()"
   ]
  },
  {
   "cell_type": "code",
   "execution_count": 10,
   "id": "a8d4f633",
   "metadata": {},
   "outputs": [
    {
     "data": {
      "text/plain": [
       "<Axes: >"
      ]
     },
     "execution_count": 10,
     "metadata": {},
     "output_type": "execute_result"
    },
    {
     "data": {
      "image/png": "[encoded data removed]",
      "text/plain": [
       "<Figure size 640x480 with 1 Axes>"
      ]
     },
     "metadata": {},
     "output_type": "display_data"
    }
   ],
   "source": [
    "s.plot.bar()"
   ]
  },
  {
   "cell_type": "markdown",
   "id": "27c30732",
   "metadata": {
    "id": "27c30732"
   },
   "source": [
    "### Problem 7 (SGA)\n",
    "\n",
    "What's wrong with May? Why do we have so many purchases? Are there any unknown holidays in this month? Or it's some other reason? Investigate your data and give an answer. Write it in the cell below. Add new cells to include code / explanations as necessary."
   ]
  },
  {
   "cell_type": "code",
   "execution_count": 11,
   "id": "20871f83",
   "metadata": {},
   "outputs": [],
   "source": [
    "purchases['year'] = purchases['date'].dt.year"
   ]
  },
  {
   "cell_type": "code",
   "execution_count": 12,
   "id": "db26eac8",
   "metadata": {},
   "outputs": [
    {
     "data": {
      "text/html": [
       "<div>\n",
       "<style scoped>\n",
       "    .dataframe tbody tr th:only-of-type {\n",
       "        vertical-align: middle;\n",
       "    }\n",
       "\n",
       "    .dataframe tbody tr th {\n",
       "        vertical-align: top;\n",
       "    }\n",
       "\n",
       "    .dataframe thead th {\n",
       "        text-align: right;\n",
       "    }\n",
       "</style>\n",
       "<table border=\"1\" class=\"dataframe\">\n",
       "  <thead>\n",
       "    <tr style=\"text-align: right;\">\n",
       "      <th></th>\n",
       "      <th></th>\n",
       "      <th>date</th>\n",
       "    </tr>\n",
       "    <tr>\n",
       "      <th>year</th>\n",
       "      <th>month</th>\n",
       "      <th></th>\n",
       "    </tr>\n",
       "  </thead>\n",
       "  <tbody>\n",
       "    <tr>\n",
       "      <th rowspan=\"8\" valign=\"top\">2018</th>\n",
       "      <th>5</th>\n",
       "      <td>3756</td>\n",
       "    </tr>\n",
       "    <tr>\n",
       "      <th>6</th>\n",
       "      <td>3102</td>\n",
       "    </tr>\n",
       "    <tr>\n",
       "      <th>7</th>\n",
       "      <td>2817</td>\n",
       "    </tr>\n",
       "    <tr>\n",
       "      <th>8</th>\n",
       "      <td>3000</td>\n",
       "    </tr>\n",
       "    <tr>\n",
       "      <th>9</th>\n",
       "      <td>2987</td>\n",
       "    </tr>\n",
       "    <tr>\n",
       "      <th>10</th>\n",
       "      <td>2863</td>\n",
       "    </tr>\n",
       "    <tr>\n",
       "      <th>11</th>\n",
       "      <td>2991</td>\n",
       "    </tr>\n",
       "    <tr>\n",
       "      <th>12</th>\n",
       "      <td>4114</td>\n",
       "    </tr>\n",
       "    <tr>\n",
       "      <th rowspan=\"6\" valign=\"top\">2019</th>\n",
       "      <th>1</th>\n",
       "      <td>2688</td>\n",
       "    </tr>\n",
       "    <tr>\n",
       "      <th>2</th>\n",
       "      <td>2710</td>\n",
       "    </tr>\n",
       "    <tr>\n",
       "      <th>3</th>\n",
       "      <td>3252</td>\n",
       "    </tr>\n",
       "    <tr>\n",
       "      <th>4</th>\n",
       "      <td>2790</td>\n",
       "    </tr>\n",
       "    <tr>\n",
       "      <th>5</th>\n",
       "      <td>2961</td>\n",
       "    </tr>\n",
       "    <tr>\n",
       "      <th>6</th>\n",
       "      <td>371</td>\n",
       "    </tr>\n",
       "  </tbody>\n",
       "</table>\n",
       "</div>"
      ],
      "text/plain": [
       "            date\n",
       "year month      \n",
       "2018 5      3756\n",
       "     6      3102\n",
       "     7      2817\n",
       "     8      3000\n",
       "     9      2987\n",
       "     10     2863\n",
       "     11     2991\n",
       "     12     4114\n",
       "2019 1      2688\n",
       "     2      2710\n",
       "     3      3252\n",
       "     4      2790\n",
       "     5      2961\n",
       "     6       371"
      ]
     },
     "execution_count": 12,
     "metadata": {},
     "output_type": "execute_result"
    }
   ],
   "source": [
    "purchases.groupby(['year', 'month']).agg({'date':'count'})"
   ]
  },
  {
   "cell_type": "markdown",
   "id": "e22450a3",
   "metadata": {
    "id": "e22450a3",
    "nbgrader": {
     "grade": true,
     "grade_id": "cell-eb9644aaa9d733f7",
     "locked": false,
     "points": 1,
     "schema_version": 3,
     "solution": true,
     "task": false
    }
   },
   "source": [
    "Looks like it's all easier, as we have data for two months of two years (and my guess is may is the only month we have full data for, as number of visits in the sixth month of 2019 is rather small). "
   ]
  },
  {
   "cell_type": "markdown",
   "id": "bfb696fc",
   "metadata": {
    "id": "bfb696fc",
    "nbgrader": {
     "grade": false,
     "grade_id": "cell-e1cde254c63033c6",
     "locked": true,
     "schema_version": 3,
     "solution": false,
     "task": false
    }
   },
   "source": [
    "### Problem 8 (quiz)\n",
    "We see that people go to shop more often in December. But do they spend more per each visit? Let us draw a bar plot that shows the average purchase total price per month of year. Use `groupby` with the `month` variable you (hopefully) created earlier."
   ]
  },
  {
   "cell_type": "code",
   "execution_count": 13,
   "id": "251fc076",
   "metadata": {
    "deletable": false,
    "id": "251fc076"
   },
   "outputs": [],
   "source": [
    "d = purchases.groupby(['month'])['total_price'].mean().reset_index()"
   ]
  },
  {
   "cell_type": "code",
   "execution_count": 15,
   "id": "1e59fc17",
   "metadata": {},
   "outputs": [
    {
     "data": {
      "text/plain": [
       "<BarContainer object of 12 artists>"
      ]
     },
     "execution_count": 15,
     "metadata": {},
     "output_type": "execute_result"
    },
    {
     "data": {
      "image/png": "[encoded data removed]",
      "text/plain": [
       "<Figure size 640x480 with 1 Axes>"
      ]
     },
     "metadata": {},
     "output_type": "display_data"
    }
   ],
   "source": [
    "plt.bar(x = d['month'], height = d['total_price'])"
   ]
  },
  {
   "cell_type": "markdown",
   "id": "d961812c",
   "metadata": {
    "id": "d961812c"
   },
   "source": [
    "### Problem 9 (quiz)\n",
    "Okay, we see that there is a difference between December's mean purchase price and other month's. But we also see that the average price is different in different months (not including December), probably due to some random factors. Is it possible that December behaviour is just a result of fluke? To answer this question, let us compare two months, for example, December and November, in a statistically rigorous way.\n",
    "\n",
    "To do so, let us find the average purchase price in each month in each shop (hint: use `.pivot_table`), then extract two samples: one contains average purchase prices in December and another in November. The number of elements in each sample should be equal to the number of shops. Is it true that they are different? Use the statistical test that suits this problem the best with a two-sided alternative. Then answer the question in a quiz.\n"
   ]
  },
  {
   "cell_type": "code",
   "execution_count": 16,
   "id": "84e5c493",
   "metadata": {
    "deletable": false,
    "id": "84e5c493"
   },
   "outputs": [
    {
     "data": {
      "text/html": [
       "<div>\n",
       "<style scoped>\n",
       "    .dataframe tbody tr th:only-of-type {\n",
       "        vertical-align: middle;\n",
       "    }\n",
       "\n",
       "    .dataframe tbody tr th {\n",
       "        vertical-align: top;\n",
       "    }\n",
       "\n",
       "    .dataframe thead th {\n",
       "        text-align: right;\n",
       "    }\n",
       "</style>\n",
       "<table border=\"1\" class=\"dataframe\">\n",
       "  <thead>\n",
       "    <tr style=\"text-align: right;\">\n",
       "      <th></th>\n",
       "      <th>month</th>\n",
       "      <th>shop_id</th>\n",
       "      <th>total_price</th>\n",
       "    </tr>\n",
       "  </thead>\n",
       "  <tbody>\n",
       "    <tr>\n",
       "      <th>0</th>\n",
       "      <td>1</td>\n",
       "      <td>0</td>\n",
       "      <td>241.562998</td>\n",
       "    </tr>\n",
       "    <tr>\n",
       "      <th>1</th>\n",
       "      <td>1</td>\n",
       "      <td>1</td>\n",
       "      <td>236.556164</td>\n",
       "    </tr>\n",
       "    <tr>\n",
       "      <th>2</th>\n",
       "      <td>1</td>\n",
       "      <td>2</td>\n",
       "      <td>308.798295</td>\n",
       "    </tr>\n",
       "    <tr>\n",
       "      <th>3</th>\n",
       "      <td>1</td>\n",
       "      <td>3</td>\n",
       "      <td>216.317606</td>\n",
       "    </tr>\n",
       "    <tr>\n",
       "      <th>4</th>\n",
       "      <td>1</td>\n",
       "      <td>4</td>\n",
       "      <td>191.243990</td>\n",
       "    </tr>\n",
       "    <tr>\n",
       "      <th>...</th>\n",
       "      <td>...</td>\n",
       "      <td>...</td>\n",
       "      <td>...</td>\n",
       "    </tr>\n",
       "    <tr>\n",
       "      <th>895</th>\n",
       "      <td>12</td>\n",
       "      <td>70</td>\n",
       "      <td>392.298768</td>\n",
       "    </tr>\n",
       "    <tr>\n",
       "      <th>896</th>\n",
       "      <td>12</td>\n",
       "      <td>71</td>\n",
       "      <td>529.627675</td>\n",
       "    </tr>\n",
       "    <tr>\n",
       "      <th>897</th>\n",
       "      <td>12</td>\n",
       "      <td>72</td>\n",
       "      <td>305.593160</td>\n",
       "    </tr>\n",
       "    <tr>\n",
       "      <th>898</th>\n",
       "      <td>12</td>\n",
       "      <td>73</td>\n",
       "      <td>299.018209</td>\n",
       "    </tr>\n",
       "    <tr>\n",
       "      <th>899</th>\n",
       "      <td>12</td>\n",
       "      <td>74</td>\n",
       "      <td>334.744391</td>\n",
       "    </tr>\n",
       "  </tbody>\n",
       "</table>\n",
       "<p>900 rows × 3 columns</p>\n",
       "</div>"
      ],
      "text/plain": [
       "     month  shop_id  total_price\n",
       "0        1        0   241.562998\n",
       "1        1        1   236.556164\n",
       "2        1        2   308.798295\n",
       "3        1        3   216.317606\n",
       "4        1        4   191.243990\n",
       "..     ...      ...          ...\n",
       "895     12       70   392.298768\n",
       "896     12       71   529.627675\n",
       "897     12       72   305.593160\n",
       "898     12       73   299.018209\n",
       "899     12       74   334.744391\n",
       "\n",
       "[900 rows x 3 columns]"
      ]
     },
     "execution_count": 16,
     "metadata": {},
     "output_type": "execute_result"
    }
   ],
   "source": [
    "dd = purchases.groupby(['month', 'shop_id'])['total_price'].mean().reset_index()\n",
    "dd"
   ]
  },
  {
   "cell_type": "code",
   "execution_count": 17,
   "id": "a2f8a8ca",
   "metadata": {},
   "outputs": [],
   "source": [
    "import numpy as np"
   ]
  },
  {
   "cell_type": "code",
   "execution_count": 18,
   "id": "baeb4a42",
   "metadata": {},
   "outputs": [],
   "source": [
    "mister_november = np.array(dd[dd['month'] == 11]['total_price'].to_list())\n",
    "mister_december = np.array(dd[dd['month'] == 12]['total_price'].to_list())"
   ]
  },
  {
   "cell_type": "code",
   "execution_count": 19,
   "id": "cc9832bd",
   "metadata": {},
   "outputs": [
    {
     "data": {
      "text/plain": [
       "(75, 75)"
      ]
     },
     "execution_count": 19,
     "metadata": {},
     "output_type": "execute_result"
    }
   ],
   "source": [
    "len(mister_november), len(mister_december)"
   ]
  },
  {
   "cell_type": "code",
   "execution_count": 20,
   "id": "636fb943",
   "metadata": {},
   "outputs": [],
   "source": [
    "import scipy.stats"
   ]
  },
  {
   "cell_type": "code",
   "execution_count": 21,
   "id": "e4bc331d",
   "metadata": {},
   "outputs": [
    {
     "data": {
      "text/plain": [
       "TtestResult(statistic=-12.130046456676514, pvalue=2.8875117936923646e-19, df=74)"
      ]
     },
     "execution_count": 21,
     "metadata": {},
     "output_type": "execute_result"
    }
   ],
   "source": [
    "scipy.stats.ttest_rel(mister_november, mister_december)"
   ]
  },
  {
   "cell_type": "markdown",
   "id": "dd4a384c",
   "metadata": {
    "id": "dd4a384c"
   },
   "source": [
    "### Problem 10 (autograded)"
   ]
  },
  {
   "cell_type": "markdown",
   "id": "81ff95b8",
   "metadata": {
    "id": "81ff95b8"
   },
   "source": [
    "Now let us investigate customer behaviour. First of all we are interested in the relation between customers' age and their spendings per each purchase. To study this relation, first join tables `purchases` and `customers` in such a way to obtain information on customer's age for each purchase. Call the resulting table `purchases_c`. This table should contain all purchases by the registered customers, but rows that correspond to unregistered customers (not present in `customers`) should be dropped. The resulting table also should contain column `customer_id`."
   ]
  },
  {
   "cell_type": "code",
   "execution_count": 22,
   "id": "1d0fe009",
   "metadata": {},
   "outputs": [
    {
     "data": {
      "text/html": [
       "<div>\n",
       "<style scoped>\n",
       "    .dataframe tbody tr th:only-of-type {\n",
       "        vertical-align: middle;\n",
       "    }\n",
       "\n",
       "    .dataframe tbody tr th {\n",
       "        vertical-align: top;\n",
       "    }\n",
       "\n",
       "    .dataframe thead th {\n",
       "        text-align: right;\n",
       "    }\n",
       "</style>\n",
       "<table border=\"1\" class=\"dataframe\">\n",
       "  <thead>\n",
       "    <tr style=\"text-align: right;\">\n",
       "      <th></th>\n",
       "      <th>customer_id</th>\n",
       "      <th>date</th>\n",
       "      <th>shop_id</th>\n",
       "      <th>total_price</th>\n",
       "      <th>month</th>\n",
       "      <th>year</th>\n",
       "    </tr>\n",
       "  </thead>\n",
       "  <tbody>\n",
       "    <tr>\n",
       "      <th>0</th>\n",
       "      <td>0.0</td>\n",
       "      <td>2018-05-04</td>\n",
       "      <td>40</td>\n",
       "      <td>289.673291</td>\n",
       "      <td>5</td>\n",
       "      <td>2018</td>\n",
       "    </tr>\n",
       "    <tr>\n",
       "      <th>1</th>\n",
       "      <td>0.0</td>\n",
       "      <td>2019-01-26</td>\n",
       "      <td>40</td>\n",
       "      <td>1316.898901</td>\n",
       "      <td>1</td>\n",
       "      <td>2019</td>\n",
       "    </tr>\n",
       "    <tr>\n",
       "      <th>2</th>\n",
       "      <td>0.0</td>\n",
       "      <td>2018-11-18</td>\n",
       "      <td>42</td>\n",
       "      <td>159.414367</td>\n",
       "      <td>11</td>\n",
       "      <td>2018</td>\n",
       "    </tr>\n",
       "    <tr>\n",
       "      <th>3</th>\n",
       "      <td>0.0</td>\n",
       "      <td>2018-05-12</td>\n",
       "      <td>42</td>\n",
       "      <td>808.791649</td>\n",
       "      <td>5</td>\n",
       "      <td>2018</td>\n",
       "    </tr>\n",
       "    <tr>\n",
       "      <th>4</th>\n",
       "      <td>0.0</td>\n",
       "      <td>2019-04-20</td>\n",
       "      <td>42</td>\n",
       "      <td>1207.855038</td>\n",
       "      <td>4</td>\n",
       "      <td>2019</td>\n",
       "    </tr>\n",
       "    <tr>\n",
       "      <th>5</th>\n",
       "      <td>0.0</td>\n",
       "      <td>2018-11-24</td>\n",
       "      <td>42</td>\n",
       "      <td>1057.752024</td>\n",
       "      <td>11</td>\n",
       "      <td>2018</td>\n",
       "    </tr>\n",
       "    <tr>\n",
       "      <th>6</th>\n",
       "      <td>0.0</td>\n",
       "      <td>2018-07-28</td>\n",
       "      <td>15</td>\n",
       "      <td>896.895694</td>\n",
       "      <td>7</td>\n",
       "      <td>2018</td>\n",
       "    </tr>\n",
       "    <tr>\n",
       "      <th>7</th>\n",
       "      <td>0.0</td>\n",
       "      <td>2019-06-01</td>\n",
       "      <td>40</td>\n",
       "      <td>341.922336</td>\n",
       "      <td>6</td>\n",
       "      <td>2019</td>\n",
       "    </tr>\n",
       "    <tr>\n",
       "      <th>8</th>\n",
       "      <td>0.0</td>\n",
       "      <td>2019-03-13</td>\n",
       "      <td>42</td>\n",
       "      <td>69.240631</td>\n",
       "      <td>3</td>\n",
       "      <td>2019</td>\n",
       "    </tr>\n",
       "    <tr>\n",
       "      <th>9</th>\n",
       "      <td>0.0</td>\n",
       "      <td>2018-12-22</td>\n",
       "      <td>40</td>\n",
       "      <td>936.012095</td>\n",
       "      <td>12</td>\n",
       "      <td>2018</td>\n",
       "    </tr>\n",
       "  </tbody>\n",
       "</table>\n",
       "</div>"
      ],
      "text/plain": [
       "   customer_id       date  shop_id  total_price  month  year\n",
       "0          0.0 2018-05-04       40   289.673291      5  2018\n",
       "1          0.0 2019-01-26       40  1316.898901      1  2019\n",
       "2          0.0 2018-11-18       42   159.414367     11  2018\n",
       "3          0.0 2018-05-12       42   808.791649      5  2018\n",
       "4          0.0 2019-04-20       42  1207.855038      4  2019\n",
       "5          0.0 2018-11-24       42  1057.752024     11  2018\n",
       "6          0.0 2018-07-28       15   896.895694      7  2018\n",
       "7          0.0 2019-06-01       40   341.922336      6  2019\n",
       "8          0.0 2019-03-13       42    69.240631      3  2019\n",
       "9          0.0 2018-12-22       40   936.012095     12  2018"
      ]
     },
     "execution_count": 22,
     "metadata": {},
     "output_type": "execute_result"
    }
   ],
   "source": [
    "purchases.head(10)"
   ]
  },
  {
   "cell_type": "code",
   "execution_count": 23,
   "id": "a4ada266",
   "metadata": {},
   "outputs": [
    {
     "data": {
      "text/html": [
       "<div>\n",
       "<style scoped>\n",
       "    .dataframe tbody tr th:only-of-type {\n",
       "        vertical-align: middle;\n",
       "    }\n",
       "\n",
       "    .dataframe tbody tr th {\n",
       "        vertical-align: top;\n",
       "    }\n",
       "\n",
       "    .dataframe thead th {\n",
       "        text-align: right;\n",
       "    }\n",
       "</style>\n",
       "<table border=\"1\" class=\"dataframe\">\n",
       "  <thead>\n",
       "    <tr style=\"text-align: right;\">\n",
       "      <th></th>\n",
       "      <th>customer id</th>\n",
       "      <th>age</th>\n",
       "    </tr>\n",
       "  </thead>\n",
       "  <tbody>\n",
       "    <tr>\n",
       "      <th>0</th>\n",
       "      <td>1149</td>\n",
       "      <td>71.0</td>\n",
       "    </tr>\n",
       "    <tr>\n",
       "      <th>1</th>\n",
       "      <td>750</td>\n",
       "      <td>21.0</td>\n",
       "    </tr>\n",
       "    <tr>\n",
       "      <th>2</th>\n",
       "      <td>428</td>\n",
       "      <td>36.0</td>\n",
       "    </tr>\n",
       "    <tr>\n",
       "      <th>3</th>\n",
       "      <td>360</td>\n",
       "      <td>38.0</td>\n",
       "    </tr>\n",
       "    <tr>\n",
       "      <th>4</th>\n",
       "      <td>816</td>\n",
       "      <td>51.0</td>\n",
       "    </tr>\n",
       "    <tr>\n",
       "      <th>5</th>\n",
       "      <td>570</td>\n",
       "      <td>46.0</td>\n",
       "    </tr>\n",
       "    <tr>\n",
       "      <th>6</th>\n",
       "      <td>694</td>\n",
       "      <td>21.0</td>\n",
       "    </tr>\n",
       "    <tr>\n",
       "      <th>7</th>\n",
       "      <td>807</td>\n",
       "      <td>77.0</td>\n",
       "    </tr>\n",
       "    <tr>\n",
       "      <th>8</th>\n",
       "      <td>699</td>\n",
       "      <td>44.0</td>\n",
       "    </tr>\n",
       "    <tr>\n",
       "      <th>9</th>\n",
       "      <td>981</td>\n",
       "      <td>63.0</td>\n",
       "    </tr>\n",
       "  </tbody>\n",
       "</table>\n",
       "</div>"
      ],
      "text/plain": [
       "   customer id   age\n",
       "0         1149  71.0\n",
       "1          750  21.0\n",
       "2          428  36.0\n",
       "3          360  38.0\n",
       "4          816  51.0\n",
       "5          570  46.0\n",
       "6          694  21.0\n",
       "7          807  77.0\n",
       "8          699  44.0\n",
       "9          981  63.0"
      ]
     },
     "execution_count": 23,
     "metadata": {},
     "output_type": "execute_result"
    }
   ],
   "source": [
    "customers.head(10)"
   ]
  },
  {
   "cell_type": "code",
   "execution_count": 24,
   "id": "68423746",
   "metadata": {
    "deletable": false,
    "id": "68423746",
    "nbgrader": {
     "checksum": "52e933cdce5d156ee08d3506d5200d32",
     "grade": false,
     "grade_id": "cell-def585989383682a",
     "locked": false,
     "schema_version": 3,
     "solution": true,
     "task": false
    }
   },
   "outputs": [],
   "source": [
    "purchases_c = purchases.merge(customers, how = 'right', left_on = 'customer_id', right_on = 'customer id')\n"
   ]
  },
  {
   "cell_type": "code",
   "execution_count": 25,
   "id": "78a2682f",
   "metadata": {
    "deletable": false,
    "editable": false,
    "id": "78a2682f",
    "nbgrader": {
     "checksum": "d4ead409d4eb3d8756ddaaa216f14b9e",
     "grade": true,
     "grade_id": "cell-27f4df593483d1bc",
     "locked": true,
     "points": 1,
     "schema_version": 3,
     "solution": false,
     "task": false
    }
   },
   "outputs": [],
   "source": [
    "assert (\n",
    "    purchases_c[lambda x: x[\"customer_id\"] == 123][\"age\"]\n",
    "    == customers.set_index(\"customer id\").loc[123][\"age\"]\n",
    ").all()\n",
    "assert (\n",
    "    purchases_c[lambda x: x[\"customer_id\"] == 12][\"age\"]\n",
    "    == customers.set_index(\"customer id\").loc[12][\"age\"]\n",
    ").all()\n",
    "assert sum(purchases_c[\"customer_id\"]) == 17548008.0"
   ]
  },
  {
   "cell_type": "markdown",
   "id": "2ba6e081",
   "metadata": {
    "id": "2ba6e081"
   },
   "source": [
    "### Problem 11 (autograded)"
   ]
  },
  {
   "cell_type": "code",
   "execution_count": 26,
   "id": "a6c429be",
   "metadata": {
    "id": "a6c429be"
   },
   "outputs": [
    {
     "data": {
      "text/html": [
       "<div>\n",
       "<style scoped>\n",
       "    .dataframe tbody tr th:only-of-type {\n",
       "        vertical-align: middle;\n",
       "    }\n",
       "\n",
       "    .dataframe tbody tr th {\n",
       "        vertical-align: top;\n",
       "    }\n",
       "\n",
       "    .dataframe thead th {\n",
       "        text-align: right;\n",
       "    }\n",
       "</style>\n",
       "<table border=\"1\" class=\"dataframe\">\n",
       "  <thead>\n",
       "    <tr style=\"text-align: right;\">\n",
       "      <th></th>\n",
       "      <th>customer_id</th>\n",
       "      <th>date</th>\n",
       "      <th>shop_id</th>\n",
       "      <th>total_price</th>\n",
       "      <th>month</th>\n",
       "      <th>year</th>\n",
       "      <th>customer id</th>\n",
       "      <th>age</th>\n",
       "    </tr>\n",
       "  </thead>\n",
       "  <tbody>\n",
       "    <tr>\n",
       "      <th>0</th>\n",
       "      <td>1149.0</td>\n",
       "      <td>2019-05-15</td>\n",
       "      <td>60</td>\n",
       "      <td>40.143994</td>\n",
       "      <td>5</td>\n",
       "      <td>2019</td>\n",
       "      <td>1149</td>\n",
       "      <td>71.0</td>\n",
       "    </tr>\n",
       "    <tr>\n",
       "      <th>1</th>\n",
       "      <td>1149.0</td>\n",
       "      <td>2018-06-14</td>\n",
       "      <td>60</td>\n",
       "      <td>307.206163</td>\n",
       "      <td>6</td>\n",
       "      <td>2018</td>\n",
       "      <td>1149</td>\n",
       "      <td>71.0</td>\n",
       "    </tr>\n",
       "    <tr>\n",
       "      <th>2</th>\n",
       "      <td>1149.0</td>\n",
       "      <td>2018-09-23</td>\n",
       "      <td>4</td>\n",
       "      <td>1327.170365</td>\n",
       "      <td>9</td>\n",
       "      <td>2018</td>\n",
       "      <td>1149</td>\n",
       "      <td>71.0</td>\n",
       "    </tr>\n",
       "    <tr>\n",
       "      <th>3</th>\n",
       "      <td>1149.0</td>\n",
       "      <td>2018-07-04</td>\n",
       "      <td>22</td>\n",
       "      <td>151.766925</td>\n",
       "      <td>7</td>\n",
       "      <td>2018</td>\n",
       "      <td>1149</td>\n",
       "      <td>71.0</td>\n",
       "    </tr>\n",
       "    <tr>\n",
       "      <th>4</th>\n",
       "      <td>1149.0</td>\n",
       "      <td>2018-09-20</td>\n",
       "      <td>60</td>\n",
       "      <td>140.601729</td>\n",
       "      <td>9</td>\n",
       "      <td>2018</td>\n",
       "      <td>1149</td>\n",
       "      <td>71.0</td>\n",
       "    </tr>\n",
       "    <tr>\n",
       "      <th>...</th>\n",
       "      <td>...</td>\n",
       "      <td>...</td>\n",
       "      <td>...</td>\n",
       "      <td>...</td>\n",
       "      <td>...</td>\n",
       "      <td>...</td>\n",
       "      <td>...</td>\n",
       "      <td>...</td>\n",
       "    </tr>\n",
       "    <tr>\n",
       "      <th>28794</th>\n",
       "      <td>562.0</td>\n",
       "      <td>2019-05-11</td>\n",
       "      <td>74</td>\n",
       "      <td>592.305574</td>\n",
       "      <td>5</td>\n",
       "      <td>2019</td>\n",
       "      <td>562</td>\n",
       "      <td>22.0</td>\n",
       "    </tr>\n",
       "    <tr>\n",
       "      <th>28795</th>\n",
       "      <td>562.0</td>\n",
       "      <td>2018-12-08</td>\n",
       "      <td>74</td>\n",
       "      <td>232.074279</td>\n",
       "      <td>12</td>\n",
       "      <td>2018</td>\n",
       "      <td>562</td>\n",
       "      <td>22.0</td>\n",
       "    </tr>\n",
       "    <tr>\n",
       "      <th>28796</th>\n",
       "      <td>562.0</td>\n",
       "      <td>2018-12-16</td>\n",
       "      <td>74</td>\n",
       "      <td>1075.034721</td>\n",
       "      <td>12</td>\n",
       "      <td>2018</td>\n",
       "      <td>562</td>\n",
       "      <td>22.0</td>\n",
       "    </tr>\n",
       "    <tr>\n",
       "      <th>28797</th>\n",
       "      <td>562.0</td>\n",
       "      <td>2018-11-04</td>\n",
       "      <td>29</td>\n",
       "      <td>431.440952</td>\n",
       "      <td>11</td>\n",
       "      <td>2018</td>\n",
       "      <td>562</td>\n",
       "      <td>22.0</td>\n",
       "    </tr>\n",
       "    <tr>\n",
       "      <th>28798</th>\n",
       "      <td>562.0</td>\n",
       "      <td>2018-09-07</td>\n",
       "      <td>73</td>\n",
       "      <td>91.104236</td>\n",
       "      <td>9</td>\n",
       "      <td>2018</td>\n",
       "      <td>562</td>\n",
       "      <td>22.0</td>\n",
       "    </tr>\n",
       "  </tbody>\n",
       "</table>\n",
       "<p>28799 rows × 8 columns</p>\n",
       "</div>"
      ],
      "text/plain": [
       "       customer_id       date  shop_id  total_price  month  year  customer id  \\\n",
       "0           1149.0 2019-05-15       60    40.143994      5  2019         1149   \n",
       "1           1149.0 2018-06-14       60   307.206163      6  2018         1149   \n",
       "2           1149.0 2018-09-23        4  1327.170365      9  2018         1149   \n",
       "3           1149.0 2018-07-04       22   151.766925      7  2018         1149   \n",
       "4           1149.0 2018-09-20       60   140.601729      9  2018         1149   \n",
       "...            ...        ...      ...          ...    ...   ...          ...   \n",
       "28794        562.0 2019-05-11       74   592.305574      5  2019          562   \n",
       "28795        562.0 2018-12-08       74   232.074279     12  2018          562   \n",
       "28796        562.0 2018-12-16       74  1075.034721     12  2018          562   \n",
       "28797        562.0 2018-11-04       29   431.440952     11  2018          562   \n",
       "28798        562.0 2018-09-07       73    91.104236      9  2018          562   \n",
       "\n",
       "        age  \n",
       "0      71.0  \n",
       "1      71.0  \n",
       "2      71.0  \n",
       "3      71.0  \n",
       "4      71.0  \n",
       "...     ...  \n",
       "28794  22.0  \n",
       "28795  22.0  \n",
       "28796  22.0  \n",
       "28797  22.0  \n",
       "28798  22.0  \n",
       "\n",
       "[28799 rows x 8 columns]"
      ]
     },
     "execution_count": 26,
     "metadata": {},
     "output_type": "execute_result"
    }
   ],
   "source": [
    "purchases_c"
   ]
  },
  {
   "cell_type": "markdown",
   "id": "dcbb0858",
   "metadata": {
    "id": "dcbb0858",
    "nbgrader": {
     "grade": false,
     "grade_id": "cell-9b665eced0f53414",
     "locked": true,
     "schema_version": 3,
     "solution": false,
     "task": false
    }
   },
   "source": [
    "To visualize the relation between customer's age and their spendings, we have to transform our table in such a way that one observation (row) corresponds to one customer. Let us do it by groupping and aggregating. Transform table `purchases_c` to find average `total_price` for each customer and keep column `age`. Indexes of the new dataframe should be customer id's. Put the resulting dataframe to variable `purchases_c_mean`.\n"
   ]
  },
  {
   "cell_type": "code",
   "execution_count": 27,
   "id": "d65a057b",
   "metadata": {
    "deletable": false,
    "id": "d65a057b",
    "nbgrader": {
     "checksum": "9a1dc0250b79d8890516e7bc760f6b92",
     "grade": false,
     "grade_id": "cell-e76268ef19a434d2",
     "locked": false,
     "schema_version": 3,
     "solution": true,
     "task": false
    }
   },
   "outputs": [
    {
     "name": "stderr",
     "output_type": "stream",
     "text": [
      "/var/folders/_t/4101qj71707_9qd1pn8484qw0000gn/T/ipykernel_4930/490274624.py:1: FutureWarning: Indexing with multiple keys (implicitly converted to a tuple of keys) will be deprecated, use a list instead.\n",
      "  purchases_c_mean = purchases_c.groupby(['customer_id'])['total_price', 'age'].mean()\n"
     ]
    }
   ],
   "source": [
    "purchases_c_mean = purchases_c.groupby(['customer_id'])['total_price', 'age'].mean()"
   ]
  },
  {
   "cell_type": "code",
   "execution_count": 28,
   "id": "b5851705",
   "metadata": {},
   "outputs": [
    {
     "data": {
      "text/html": [
       "<div>\n",
       "<style scoped>\n",
       "    .dataframe tbody tr th:only-of-type {\n",
       "        vertical-align: middle;\n",
       "    }\n",
       "\n",
       "    .dataframe tbody tr th {\n",
       "        vertical-align: top;\n",
       "    }\n",
       "\n",
       "    .dataframe thead th {\n",
       "        text-align: right;\n",
       "    }\n",
       "</style>\n",
       "<table border=\"1\" class=\"dataframe\">\n",
       "  <thead>\n",
       "    <tr style=\"text-align: right;\">\n",
       "      <th></th>\n",
       "      <th>total_price</th>\n",
       "      <th>age</th>\n",
       "    </tr>\n",
       "    <tr>\n",
       "      <th>customer_id</th>\n",
       "      <th></th>\n",
       "      <th></th>\n",
       "    </tr>\n",
       "  </thead>\n",
       "  <tbody>\n",
       "    <tr>\n",
       "      <th>0.0</th>\n",
       "      <td>711.291471</td>\n",
       "      <td>38.0</td>\n",
       "    </tr>\n",
       "    <tr>\n",
       "      <th>2.0</th>\n",
       "      <td>380.286822</td>\n",
       "      <td>60.0</td>\n",
       "    </tr>\n",
       "    <tr>\n",
       "      <th>3.0</th>\n",
       "      <td>392.825462</td>\n",
       "      <td>NaN</td>\n",
       "    </tr>\n",
       "    <tr>\n",
       "      <th>4.0</th>\n",
       "      <td>349.189551</td>\n",
       "      <td>24.0</td>\n",
       "    </tr>\n",
       "    <tr>\n",
       "      <th>5.0</th>\n",
       "      <td>472.189806</td>\n",
       "      <td>24.0</td>\n",
       "    </tr>\n",
       "    <tr>\n",
       "      <th>...</th>\n",
       "      <td>...</td>\n",
       "      <td>...</td>\n",
       "    </tr>\n",
       "    <tr>\n",
       "      <th>1206.0</th>\n",
       "      <td>251.489294</td>\n",
       "      <td>57.0</td>\n",
       "    </tr>\n",
       "    <tr>\n",
       "      <th>1207.0</th>\n",
       "      <td>525.552619</td>\n",
       "      <td>42.0</td>\n",
       "    </tr>\n",
       "    <tr>\n",
       "      <th>1208.0</th>\n",
       "      <td>640.826988</td>\n",
       "      <td>31.0</td>\n",
       "    </tr>\n",
       "    <tr>\n",
       "      <th>1210.0</th>\n",
       "      <td>289.928423</td>\n",
       "      <td>41.0</td>\n",
       "    </tr>\n",
       "    <tr>\n",
       "      <th>1212.0</th>\n",
       "      <td>213.649949</td>\n",
       "      <td>24.0</td>\n",
       "    </tr>\n",
       "  </tbody>\n",
       "</table>\n",
       "<p>867 rows × 2 columns</p>\n",
       "</div>"
      ],
      "text/plain": [
       "             total_price   age\n",
       "customer_id                   \n",
       "0.0           711.291471  38.0\n",
       "2.0           380.286822  60.0\n",
       "3.0           392.825462   NaN\n",
       "4.0           349.189551  24.0\n",
       "5.0           472.189806  24.0\n",
       "...                  ...   ...\n",
       "1206.0        251.489294  57.0\n",
       "1207.0        525.552619  42.0\n",
       "1208.0        640.826988  31.0\n",
       "1210.0        289.928423  41.0\n",
       "1212.0        213.649949  24.0\n",
       "\n",
       "[867 rows x 2 columns]"
      ]
     },
     "execution_count": 28,
     "metadata": {},
     "output_type": "execute_result"
    }
   ],
   "source": [
    "purchases_c_mean"
   ]
  },
  {
   "cell_type": "code",
   "execution_count": 29,
   "id": "e0c7b774",
   "metadata": {
    "id": "e0c7b774"
   },
   "outputs": [],
   "source": [
    "assert (\n",
    "    round(purchases_c_mean.loc[12][\"total_price\"] - purchases_c.query(\"customer_id == 12\")[\"total_price\"].mean(), 6) == 0\n",
    ")\n",
    "assert (\n",
    "    purchases_c_mean.loc[125][\"total_price\"]\n",
    "    == purchases_c.query(\"customer_id == 125\")[\"total_price\"].mean()\n",
    ")"
   ]
  },
  {
   "cell_type": "markdown",
   "id": "eafce501",
   "metadata": {
    "id": "eafce501"
   },
   "source": [
    "### Problem 12 (quiz)\n",
    "Use dataframe `purchases_c_mean` to visualize the relation between customer's `age` (horizontal axis) and their average `total_price` (vertical axis)."
   ]
  },
  {
   "cell_type": "code",
   "execution_count": 32,
   "id": "7729114f",
   "metadata": {
    "deletable": false,
    "id": "7729114f",
    "nbgrader": {
     "checksum": "c455540eb28600e30bf18c62c5196b1a",
     "grade": false,
     "grade_id": "cell-74bf2c586a384ceb",
     "locked": false,
     "schema_version": 3,
     "solution": true,
     "task": false
    }
   },
   "outputs": [
    {
     "data": {
      "text/plain": [
       "<matplotlib.collections.PathCollection at 0x7fb9c76cee60>"
      ]
     },
     "execution_count": 32,
     "metadata": {},
     "output_type": "execute_result"
    },
    {
     "data": {
      "image/png": "[encoded data removed]",
      "text/plain": [
       "<Figure size 640x480 with 1 Axes>"
      ]
     },
     "metadata": {},
     "output_type": "display_data"
    }
   ],
   "source": [
    "plt.scatter(x = purchases_c_mean['age'], y = purchases_c_mean['total_price'])\n"
   ]
  },
  {
   "cell_type": "markdown",
   "id": "c3800da6",
   "metadata": {
    "id": "c3800da6"
   },
   "source": [
    "### Problem 13 (quiz)\n",
    "Find Pearson's correlation coefficient between age and total price."
   ]
  },
  {
   "cell_type": "code",
   "execution_count": 33,
   "id": "0a46ecc0",
   "metadata": {
    "deletable": false,
    "id": "0a46ecc0",
    "nbgrader": {
     "checksum": "142f6d72b0d3cebe66beb17daca23275",
     "grade": false,
     "grade_id": "cell-b49d12358f261cf2",
     "locked": false,
     "schema_version": 3,
     "solution": true,
     "task": false
    }
   },
   "outputs": [
    {
     "data": {
      "text/html": [
       "<div>\n",
       "<style scoped>\n",
       "    .dataframe tbody tr th:only-of-type {\n",
       "        vertical-align: middle;\n",
       "    }\n",
       "\n",
       "    .dataframe tbody tr th {\n",
       "        vertical-align: top;\n",
       "    }\n",
       "\n",
       "    .dataframe thead th {\n",
       "        text-align: right;\n",
       "    }\n",
       "</style>\n",
       "<table border=\"1\" class=\"dataframe\">\n",
       "  <thead>\n",
       "    <tr style=\"text-align: right;\">\n",
       "      <th></th>\n",
       "      <th>total_price</th>\n",
       "      <th>age</th>\n",
       "    </tr>\n",
       "  </thead>\n",
       "  <tbody>\n",
       "    <tr>\n",
       "      <th>total_price</th>\n",
       "      <td>1.000000</td>\n",
       "      <td>0.165395</td>\n",
       "    </tr>\n",
       "    <tr>\n",
       "      <th>age</th>\n",
       "      <td>0.165395</td>\n",
       "      <td>1.000000</td>\n",
       "    </tr>\n",
       "  </tbody>\n",
       "</table>\n",
       "</div>"
      ],
      "text/plain": [
       "             total_price       age\n",
       "total_price     1.000000  0.165395\n",
       "age             0.165395  1.000000"
      ]
     },
     "execution_count": 33,
     "metadata": {},
     "output_type": "execute_result"
    }
   ],
   "source": [
    "purchases_c_mean.corr(method='pearson')"
   ]
  },
  {
   "cell_type": "markdown",
   "id": "e2025916",
   "metadata": {
    "id": "e2025916"
   },
   "source": [
    "### Problem 14 (quiz)\n",
    "We found correlation in the data present on the previous step and made some conclusions based on this data. However, we have to make sure that we can generalize our conclusion to the corresponding population. To do it, let us perform a statistical test of the significance of correlation. This can be done with `scipy.stats.pearsonr`. However, our data contains `NaN`'s in column `age` (there are registered customers with unknown age). Use method `.dropna()` to remove such rows from the dataset, then perform statistical testing with `pearsonr`. This function returns a two-tuple: first value is correlation coefficient and the second is p-value that corresponds to a test where the null hypothesis is that the correlation in population is zero."
   ]
  },
  {
   "cell_type": "code",
   "execution_count": 34,
   "id": "7dc5fc0e",
   "metadata": {
    "deletable": false,
    "id": "7dc5fc0e",
    "nbgrader": {
     "checksum": "3f8a3f77a0351a26d6bcf13ec670f662",
     "grade": false,
     "grade_id": "cell-952ef9e07ecc7e07",
     "locked": false,
     "schema_version": 3,
     "solution": true,
     "task": false
    }
   },
   "outputs": [],
   "source": [
    "purchases_c_mean = purchases_c_mean.dropna()"
   ]
  },
  {
   "cell_type": "code",
   "execution_count": 35,
   "id": "162e04f2",
   "metadata": {},
   "outputs": [],
   "source": [
    "x, y = scipy.stats.pearsonr(purchases_c_mean['age'], purchases_c_mean['total_price'])"
   ]
  },
  {
   "cell_type": "code",
   "execution_count": 36,
   "id": "0da7c576",
   "metadata": {},
   "outputs": [
    {
     "data": {
      "text/plain": [
       "(0.16539508120771904, 1.8110789103306339e-06)"
      ]
     },
     "execution_count": 36,
     "metadata": {},
     "output_type": "execute_result"
    }
   ],
   "source": [
    "x,y"
   ]
  },
  {
   "cell_type": "markdown",
   "id": "74a231e9",
   "metadata": {
    "id": "74a231e9"
   },
   "source": [
    "# Problem 15 (autograded)\n",
    "Now we are going to do the main investigation. We want to understand how special offers in our shops affect customers' behaviour. To do it, we have to identify those purchases that are made during special offers. This can be a bit tricky: for each purchase we know its date and shop id. For each shop we also know the dates of all special offers (there can be several). So for each purchase we have to compare its date with dates of all offers that took place in the corresponding shop.\n",
    "\n",
    "As a first step, let us try to join `purchases_c` with `shops`. Name this table `full_df_preliminary`."
   ]
  },
  {
   "cell_type": "code",
   "execution_count": 37,
   "id": "66c62908",
   "metadata": {
    "deletable": false,
    "id": "66c62908",
    "nbgrader": {
     "checksum": "37d37965a3fe7cf29bb129834f736c47",
     "grade": false,
     "grade_id": "cell-3202f7f2e9be6c36",
     "locked": false,
     "schema_version": 3,
     "solution": true,
     "task": false
    }
   },
   "outputs": [
    {
     "data": {
      "text/html": [
       "<div>\n",
       "<style scoped>\n",
       "    .dataframe tbody tr th:only-of-type {\n",
       "        vertical-align: middle;\n",
       "    }\n",
       "\n",
       "    .dataframe tbody tr th {\n",
       "        vertical-align: top;\n",
       "    }\n",
       "\n",
       "    .dataframe thead th {\n",
       "        text-align: right;\n",
       "    }\n",
       "</style>\n",
       "<table border=\"1\" class=\"dataframe\">\n",
       "  <thead>\n",
       "    <tr style=\"text-align: right;\">\n",
       "      <th></th>\n",
       "      <th>customer_id</th>\n",
       "      <th>date</th>\n",
       "      <th>shop_id</th>\n",
       "      <th>total_price</th>\n",
       "      <th>month</th>\n",
       "      <th>year</th>\n",
       "      <th>customer id</th>\n",
       "      <th>age</th>\n",
       "    </tr>\n",
       "  </thead>\n",
       "  <tbody>\n",
       "    <tr>\n",
       "      <th>0</th>\n",
       "      <td>1149.0</td>\n",
       "      <td>2019-05-15</td>\n",
       "      <td>60</td>\n",
       "      <td>40.143994</td>\n",
       "      <td>5</td>\n",
       "      <td>2019</td>\n",
       "      <td>1149</td>\n",
       "      <td>71.0</td>\n",
       "    </tr>\n",
       "    <tr>\n",
       "      <th>1</th>\n",
       "      <td>1149.0</td>\n",
       "      <td>2018-06-14</td>\n",
       "      <td>60</td>\n",
       "      <td>307.206163</td>\n",
       "      <td>6</td>\n",
       "      <td>2018</td>\n",
       "      <td>1149</td>\n",
       "      <td>71.0</td>\n",
       "    </tr>\n",
       "    <tr>\n",
       "      <th>2</th>\n",
       "      <td>1149.0</td>\n",
       "      <td>2018-09-23</td>\n",
       "      <td>4</td>\n",
       "      <td>1327.170365</td>\n",
       "      <td>9</td>\n",
       "      <td>2018</td>\n",
       "      <td>1149</td>\n",
       "      <td>71.0</td>\n",
       "    </tr>\n",
       "    <tr>\n",
       "      <th>3</th>\n",
       "      <td>1149.0</td>\n",
       "      <td>2018-07-04</td>\n",
       "      <td>22</td>\n",
       "      <td>151.766925</td>\n",
       "      <td>7</td>\n",
       "      <td>2018</td>\n",
       "      <td>1149</td>\n",
       "      <td>71.0</td>\n",
       "    </tr>\n",
       "    <tr>\n",
       "      <th>4</th>\n",
       "      <td>1149.0</td>\n",
       "      <td>2018-09-20</td>\n",
       "      <td>60</td>\n",
       "      <td>140.601729</td>\n",
       "      <td>9</td>\n",
       "      <td>2018</td>\n",
       "      <td>1149</td>\n",
       "      <td>71.0</td>\n",
       "    </tr>\n",
       "    <tr>\n",
       "      <th>...</th>\n",
       "      <td>...</td>\n",
       "      <td>...</td>\n",
       "      <td>...</td>\n",
       "      <td>...</td>\n",
       "      <td>...</td>\n",
       "      <td>...</td>\n",
       "      <td>...</td>\n",
       "      <td>...</td>\n",
       "    </tr>\n",
       "    <tr>\n",
       "      <th>28794</th>\n",
       "      <td>562.0</td>\n",
       "      <td>2019-05-11</td>\n",
       "      <td>74</td>\n",
       "      <td>592.305574</td>\n",
       "      <td>5</td>\n",
       "      <td>2019</td>\n",
       "      <td>562</td>\n",
       "      <td>22.0</td>\n",
       "    </tr>\n",
       "    <tr>\n",
       "      <th>28795</th>\n",
       "      <td>562.0</td>\n",
       "      <td>2018-12-08</td>\n",
       "      <td>74</td>\n",
       "      <td>232.074279</td>\n",
       "      <td>12</td>\n",
       "      <td>2018</td>\n",
       "      <td>562</td>\n",
       "      <td>22.0</td>\n",
       "    </tr>\n",
       "    <tr>\n",
       "      <th>28796</th>\n",
       "      <td>562.0</td>\n",
       "      <td>2018-12-16</td>\n",
       "      <td>74</td>\n",
       "      <td>1075.034721</td>\n",
       "      <td>12</td>\n",
       "      <td>2018</td>\n",
       "      <td>562</td>\n",
       "      <td>22.0</td>\n",
       "    </tr>\n",
       "    <tr>\n",
       "      <th>28797</th>\n",
       "      <td>562.0</td>\n",
       "      <td>2018-11-04</td>\n",
       "      <td>29</td>\n",
       "      <td>431.440952</td>\n",
       "      <td>11</td>\n",
       "      <td>2018</td>\n",
       "      <td>562</td>\n",
       "      <td>22.0</td>\n",
       "    </tr>\n",
       "    <tr>\n",
       "      <th>28798</th>\n",
       "      <td>562.0</td>\n",
       "      <td>2018-09-07</td>\n",
       "      <td>73</td>\n",
       "      <td>91.104236</td>\n",
       "      <td>9</td>\n",
       "      <td>2018</td>\n",
       "      <td>562</td>\n",
       "      <td>22.0</td>\n",
       "    </tr>\n",
       "  </tbody>\n",
       "</table>\n",
       "<p>28799 rows × 8 columns</p>\n",
       "</div>"
      ],
      "text/plain": [
       "       customer_id       date  shop_id  total_price  month  year  customer id  \\\n",
       "0           1149.0 2019-05-15       60    40.143994      5  2019         1149   \n",
       "1           1149.0 2018-06-14       60   307.206163      6  2018         1149   \n",
       "2           1149.0 2018-09-23        4  1327.170365      9  2018         1149   \n",
       "3           1149.0 2018-07-04       22   151.766925      7  2018         1149   \n",
       "4           1149.0 2018-09-20       60   140.601729      9  2018         1149   \n",
       "...            ...        ...      ...          ...    ...   ...          ...   \n",
       "28794        562.0 2019-05-11       74   592.305574      5  2019          562   \n",
       "28795        562.0 2018-12-08       74   232.074279     12  2018          562   \n",
       "28796        562.0 2018-12-16       74  1075.034721     12  2018          562   \n",
       "28797        562.0 2018-11-04       29   431.440952     11  2018          562   \n",
       "28798        562.0 2018-09-07       73    91.104236      9  2018          562   \n",
       "\n",
       "        age  \n",
       "0      71.0  \n",
       "1      71.0  \n",
       "2      71.0  \n",
       "3      71.0  \n",
       "4      71.0  \n",
       "...     ...  \n",
       "28794  22.0  \n",
       "28795  22.0  \n",
       "28796  22.0  \n",
       "28797  22.0  \n",
       "28798  22.0  \n",
       "\n",
       "[28799 rows x 8 columns]"
      ]
     },
     "execution_count": 37,
     "metadata": {},
     "output_type": "execute_result"
    }
   ],
   "source": [
    "purchases_c "
   ]
  },
  {
   "cell_type": "code",
   "execution_count": 38,
   "id": "e7aecf01",
   "metadata": {},
   "outputs": [
    {
     "data": {
      "text/html": [
       "<div>\n",
       "<style scoped>\n",
       "    .dataframe tbody tr th:only-of-type {\n",
       "        vertical-align: middle;\n",
       "    }\n",
       "\n",
       "    .dataframe tbody tr th {\n",
       "        vertical-align: top;\n",
       "    }\n",
       "\n",
       "    .dataframe thead th {\n",
       "        text-align: right;\n",
       "    }\n",
       "</style>\n",
       "<table border=\"1\" class=\"dataframe\">\n",
       "  <thead>\n",
       "    <tr style=\"text-align: right;\">\n",
       "      <th></th>\n",
       "      <th>shop_id</th>\n",
       "      <th>offer_begin</th>\n",
       "      <th>offer_end</th>\n",
       "    </tr>\n",
       "  </thead>\n",
       "  <tbody>\n",
       "    <tr>\n",
       "      <th>0</th>\n",
       "      <td>0</td>\n",
       "      <td>2019-02-28</td>\n",
       "      <td>2019-03-13</td>\n",
       "    </tr>\n",
       "    <tr>\n",
       "      <th>1</th>\n",
       "      <td>0</td>\n",
       "      <td>2018-07-22</td>\n",
       "      <td>2018-08-10</td>\n",
       "    </tr>\n",
       "    <tr>\n",
       "      <th>2</th>\n",
       "      <td>0</td>\n",
       "      <td>2018-09-21</td>\n",
       "      <td>2018-09-27</td>\n",
       "    </tr>\n",
       "    <tr>\n",
       "      <th>3</th>\n",
       "      <td>1</td>\n",
       "      <td>NaN</td>\n",
       "      <td>NaN</td>\n",
       "    </tr>\n",
       "    <tr>\n",
       "      <th>4</th>\n",
       "      <td>2</td>\n",
       "      <td>NaN</td>\n",
       "      <td>NaN</td>\n",
       "    </tr>\n",
       "    <tr>\n",
       "      <th>...</th>\n",
       "      <td>...</td>\n",
       "      <td>...</td>\n",
       "      <td>...</td>\n",
       "    </tr>\n",
       "    <tr>\n",
       "      <th>178</th>\n",
       "      <td>72</td>\n",
       "      <td>2018-05-07</td>\n",
       "      <td>2018-05-26</td>\n",
       "    </tr>\n",
       "    <tr>\n",
       "      <th>179</th>\n",
       "      <td>73</td>\n",
       "      <td>2019-05-08</td>\n",
       "      <td>2019-06-11</td>\n",
       "    </tr>\n",
       "    <tr>\n",
       "      <th>180</th>\n",
       "      <td>74</td>\n",
       "      <td>2018-09-14</td>\n",
       "      <td>2018-10-12</td>\n",
       "    </tr>\n",
       "    <tr>\n",
       "      <th>181</th>\n",
       "      <td>74</td>\n",
       "      <td>2018-12-08</td>\n",
       "      <td>2019-01-10</td>\n",
       "    </tr>\n",
       "    <tr>\n",
       "      <th>182</th>\n",
       "      <td>74</td>\n",
       "      <td>2018-08-22</td>\n",
       "      <td>2018-08-28</td>\n",
       "    </tr>\n",
       "  </tbody>\n",
       "</table>\n",
       "<p>183 rows × 3 columns</p>\n",
       "</div>"
      ],
      "text/plain": [
       "     shop_id offer_begin   offer_end\n",
       "0          0  2019-02-28  2019-03-13\n",
       "1          0  2018-07-22  2018-08-10\n",
       "2          0  2018-09-21  2018-09-27\n",
       "3          1         NaN         NaN\n",
       "4          2         NaN         NaN\n",
       "..       ...         ...         ...\n",
       "178       72  2018-05-07  2018-05-26\n",
       "179       73  2019-05-08  2019-06-11\n",
       "180       74  2018-09-14  2018-10-12\n",
       "181       74  2018-12-08  2019-01-10\n",
       "182       74  2018-08-22  2018-08-28\n",
       "\n",
       "[183 rows x 3 columns]"
      ]
     },
     "execution_count": 38,
     "metadata": {},
     "output_type": "execute_result"
    }
   ],
   "source": [
    "shops"
   ]
  },
  {
   "cell_type": "code",
   "execution_count": 39,
   "id": "90b1e7fc",
   "metadata": {},
   "outputs": [],
   "source": [
    "full_df_preliminary = purchases_c.merge(shops, on='shop_id')"
   ]
  },
  {
   "cell_type": "code",
   "execution_count": 40,
   "id": "e4d43263",
   "metadata": {
    "deletable": false,
    "editable": false,
    "id": "e4d43263",
    "nbgrader": {
     "checksum": "e638ccfb467cd7758d68cc80d186f2f4",
     "grade": true,
     "grade_id": "cell-36bc4666e56a90b9",
     "locked": true,
     "points": 1,
     "schema_version": 3,
     "solution": false,
     "task": false
    }
   },
   "outputs": [],
   "source": [
    "assert (\n",
    "    full_df_preliminary.query('date == \"2019-04-24\" and customer_id == 555.0')[\n",
    "        \"offer_begin\"\n",
    "    ].iloc[0]\n",
    "    == \"2018-08-15\"\n",
    ")\n",
    "assert (\n",
    "    full_df_preliminary.query('date == \"2018-08-24\" and customer_id == 686.0').max()[\n",
    "        \"offer_end\"\n",
    "    ]\n",
    "    == \"2019-01-21\"\n",
    ")"
   ]
  },
  {
   "cell_type": "markdown",
   "id": "ac861b9f",
   "metadata": {
    "id": "ac861b9f"
   },
   "source": [
    "### Problem 16 (autograded)\n",
    "Let us investigate the table `full_df_preliminary`. Each row of this table corresponds to some purchase. However, for some shops we have several special offers and therefore several rows in the table `shops`. During the join each purchase is joined to all rows of `shops` that correspond to a particular shop. Therefore, purchases are duplicated, and we lost information on which rows in `full_df_preliminary` correspond to which purchase. (For example, the last two rows seem to correspond to the same purchase, but can we be sure?) This is due to the fact that table `purchases_c` don't have any explicit column with purchase identifier. Let us add it. As each row of `purchases_c` corresponds to exactly one purchase, table index can work as such an identifier. To create a column that coincides with the index one can use method `.reset_index()`.\n",
    "\n",
    "Apply `.reset_index()` to `purchases_c`, then repeat the join from the previous problem. Name the resulting dataframe `full_df`."
   ]
  },
  {
   "cell_type": "code",
   "execution_count": 41,
   "id": "968c0c51",
   "metadata": {
    "deletable": false,
    "id": "968c0c51",
    "nbgrader": {
     "checksum": "711532e6ab63c11aab5b7dd9d298b3af",
     "grade": false,
     "grade_id": "cell-8414788809192d4e",
     "locked": false,
     "schema_version": 3,
     "solution": true,
     "task": false
    }
   },
   "outputs": [
    {
     "data": {
      "text/html": [
       "<div>\n",
       "<style scoped>\n",
       "    .dataframe tbody tr th:only-of-type {\n",
       "        vertical-align: middle;\n",
       "    }\n",
       "\n",
       "    .dataframe tbody tr th {\n",
       "        vertical-align: top;\n",
       "    }\n",
       "\n",
       "    .dataframe thead th {\n",
       "        text-align: right;\n",
       "    }\n",
       "</style>\n",
       "<table border=\"1\" class=\"dataframe\">\n",
       "  <thead>\n",
       "    <tr style=\"text-align: right;\">\n",
       "      <th></th>\n",
       "      <th>customer_id</th>\n",
       "      <th>date</th>\n",
       "      <th>shop_id</th>\n",
       "      <th>total_price</th>\n",
       "      <th>month</th>\n",
       "      <th>year</th>\n",
       "      <th>customer id</th>\n",
       "      <th>age</th>\n",
       "      <th>offer_begin</th>\n",
       "      <th>offer_end</th>\n",
       "    </tr>\n",
       "  </thead>\n",
       "  <tbody>\n",
       "    <tr>\n",
       "      <th>0</th>\n",
       "      <td>1149.0</td>\n",
       "      <td>2019-05-15</td>\n",
       "      <td>60</td>\n",
       "      <td>40.143994</td>\n",
       "      <td>5</td>\n",
       "      <td>2019</td>\n",
       "      <td>1149</td>\n",
       "      <td>71.0</td>\n",
       "      <td>2018-07-07</td>\n",
       "      <td>2018-08-02</td>\n",
       "    </tr>\n",
       "    <tr>\n",
       "      <th>1</th>\n",
       "      <td>1149.0</td>\n",
       "      <td>2018-06-14</td>\n",
       "      <td>60</td>\n",
       "      <td>307.206163</td>\n",
       "      <td>6</td>\n",
       "      <td>2018</td>\n",
       "      <td>1149</td>\n",
       "      <td>71.0</td>\n",
       "      <td>2018-07-07</td>\n",
       "      <td>2018-08-02</td>\n",
       "    </tr>\n",
       "    <tr>\n",
       "      <th>2</th>\n",
       "      <td>1149.0</td>\n",
       "      <td>2018-09-20</td>\n",
       "      <td>60</td>\n",
       "      <td>140.601729</td>\n",
       "      <td>9</td>\n",
       "      <td>2018</td>\n",
       "      <td>1149</td>\n",
       "      <td>71.0</td>\n",
       "      <td>2018-07-07</td>\n",
       "      <td>2018-08-02</td>\n",
       "    </tr>\n",
       "    <tr>\n",
       "      <th>3</th>\n",
       "      <td>1149.0</td>\n",
       "      <td>2018-07-08</td>\n",
       "      <td>60</td>\n",
       "      <td>374.177967</td>\n",
       "      <td>7</td>\n",
       "      <td>2018</td>\n",
       "      <td>1149</td>\n",
       "      <td>71.0</td>\n",
       "      <td>2018-07-07</td>\n",
       "      <td>2018-08-02</td>\n",
       "    </tr>\n",
       "    <tr>\n",
       "      <th>4</th>\n",
       "      <td>1149.0</td>\n",
       "      <td>2018-06-07</td>\n",
       "      <td>60</td>\n",
       "      <td>182.141624</td>\n",
       "      <td>6</td>\n",
       "      <td>2018</td>\n",
       "      <td>1149</td>\n",
       "      <td>71.0</td>\n",
       "      <td>2018-07-07</td>\n",
       "      <td>2018-08-02</td>\n",
       "    </tr>\n",
       "    <tr>\n",
       "      <th>...</th>\n",
       "      <td>...</td>\n",
       "      <td>...</td>\n",
       "      <td>...</td>\n",
       "      <td>...</td>\n",
       "      <td>...</td>\n",
       "      <td>...</td>\n",
       "      <td>...</td>\n",
       "      <td>...</td>\n",
       "      <td>...</td>\n",
       "      <td>...</td>\n",
       "    </tr>\n",
       "    <tr>\n",
       "      <th>69403</th>\n",
       "      <td>784.0</td>\n",
       "      <td>2018-12-11</td>\n",
       "      <td>31</td>\n",
       "      <td>305.124843</td>\n",
       "      <td>12</td>\n",
       "      <td>2018</td>\n",
       "      <td>784</td>\n",
       "      <td>NaN</td>\n",
       "      <td>2018-12-20</td>\n",
       "      <td>2018-12-28</td>\n",
       "    </tr>\n",
       "    <tr>\n",
       "      <th>69404</th>\n",
       "      <td>784.0</td>\n",
       "      <td>2018-12-11</td>\n",
       "      <td>31</td>\n",
       "      <td>305.124843</td>\n",
       "      <td>12</td>\n",
       "      <td>2018</td>\n",
       "      <td>784</td>\n",
       "      <td>NaN</td>\n",
       "      <td>2019-02-22</td>\n",
       "      <td>2019-03-14</td>\n",
       "    </tr>\n",
       "    <tr>\n",
       "      <th>69405</th>\n",
       "      <td>784.0</td>\n",
       "      <td>2018-12-11</td>\n",
       "      <td>31</td>\n",
       "      <td>305.124843</td>\n",
       "      <td>12</td>\n",
       "      <td>2018</td>\n",
       "      <td>784</td>\n",
       "      <td>NaN</td>\n",
       "      <td>2018-09-22</td>\n",
       "      <td>2018-10-11</td>\n",
       "    </tr>\n",
       "    <tr>\n",
       "      <th>69406</th>\n",
       "      <td>784.0</td>\n",
       "      <td>2018-12-11</td>\n",
       "      <td>31</td>\n",
       "      <td>305.124843</td>\n",
       "      <td>12</td>\n",
       "      <td>2018</td>\n",
       "      <td>784</td>\n",
       "      <td>NaN</td>\n",
       "      <td>2018-06-07</td>\n",
       "      <td>2018-07-10</td>\n",
       "    </tr>\n",
       "    <tr>\n",
       "      <th>69407</th>\n",
       "      <td>784.0</td>\n",
       "      <td>2018-12-11</td>\n",
       "      <td>31</td>\n",
       "      <td>305.124843</td>\n",
       "      <td>12</td>\n",
       "      <td>2018</td>\n",
       "      <td>784</td>\n",
       "      <td>NaN</td>\n",
       "      <td>2018-12-12</td>\n",
       "      <td>2019-01-18</td>\n",
       "    </tr>\n",
       "  </tbody>\n",
       "</table>\n",
       "<p>69408 rows × 10 columns</p>\n",
       "</div>"
      ],
      "text/plain": [
       "       customer_id       date  shop_id  total_price  month  year  customer id  \\\n",
       "0           1149.0 2019-05-15       60    40.143994      5  2019         1149   \n",
       "1           1149.0 2018-06-14       60   307.206163      6  2018         1149   \n",
       "2           1149.0 2018-09-20       60   140.601729      9  2018         1149   \n",
       "3           1149.0 2018-07-08       60   374.177967      7  2018         1149   \n",
       "4           1149.0 2018-06-07       60   182.141624      6  2018         1149   \n",
       "...            ...        ...      ...          ...    ...   ...          ...   \n",
       "69403        784.0 2018-12-11       31   305.124843     12  2018          784   \n",
       "69404        784.0 2018-12-11       31   305.124843     12  2018          784   \n",
       "69405        784.0 2018-12-11       31   305.124843     12  2018          784   \n",
       "69406        784.0 2018-12-11       31   305.124843     12  2018          784   \n",
       "69407        784.0 2018-12-11       31   305.124843     12  2018          784   \n",
       "\n",
       "        age offer_begin   offer_end  \n",
       "0      71.0  2018-07-07  2018-08-02  \n",
       "1      71.0  2018-07-07  2018-08-02  \n",
       "2      71.0  2018-07-07  2018-08-02  \n",
       "3      71.0  2018-07-07  2018-08-02  \n",
       "4      71.0  2018-07-07  2018-08-02  \n",
       "...     ...         ...         ...  \n",
       "69403   NaN  2018-12-20  2018-12-28  \n",
       "69404   NaN  2019-02-22  2019-03-14  \n",
       "69405   NaN  2018-09-22  2018-10-11  \n",
       "69406   NaN  2018-06-07  2018-07-10  \n",
       "69407   NaN  2018-12-12  2019-01-18  \n",
       "\n",
       "[69408 rows x 10 columns]"
      ]
     },
     "execution_count": 41,
     "metadata": {},
     "output_type": "execute_result"
    }
   ],
   "source": [
    "full_df_preliminary"
   ]
  },
  {
   "cell_type": "code",
   "execution_count": 42,
   "id": "d8fc5cd2",
   "metadata": {},
   "outputs": [],
   "source": [
    "purchases_c = purchases_c.reset_index()"
   ]
  },
  {
   "cell_type": "code",
   "execution_count": 43,
   "id": "d6ed5f32",
   "metadata": {},
   "outputs": [
    {
     "data": {
      "text/html": [
       "<div>\n",
       "<style scoped>\n",
       "    .dataframe tbody tr th:only-of-type {\n",
       "        vertical-align: middle;\n",
       "    }\n",
       "\n",
       "    .dataframe tbody tr th {\n",
       "        vertical-align: top;\n",
       "    }\n",
       "\n",
       "    .dataframe thead th {\n",
       "        text-align: right;\n",
       "    }\n",
       "</style>\n",
       "<table border=\"1\" class=\"dataframe\">\n",
       "  <thead>\n",
       "    <tr style=\"text-align: right;\">\n",
       "      <th></th>\n",
       "      <th>index</th>\n",
       "      <th>customer_id</th>\n",
       "      <th>date</th>\n",
       "      <th>shop_id</th>\n",
       "      <th>total_price</th>\n",
       "      <th>month</th>\n",
       "      <th>year</th>\n",
       "      <th>customer id</th>\n",
       "      <th>age</th>\n",
       "    </tr>\n",
       "  </thead>\n",
       "  <tbody>\n",
       "    <tr>\n",
       "      <th>0</th>\n",
       "      <td>0</td>\n",
       "      <td>1149.0</td>\n",
       "      <td>2019-05-15</td>\n",
       "      <td>60</td>\n",
       "      <td>40.143994</td>\n",
       "      <td>5</td>\n",
       "      <td>2019</td>\n",
       "      <td>1149</td>\n",
       "      <td>71.0</td>\n",
       "    </tr>\n",
       "    <tr>\n",
       "      <th>1</th>\n",
       "      <td>1</td>\n",
       "      <td>1149.0</td>\n",
       "      <td>2018-06-14</td>\n",
       "      <td>60</td>\n",
       "      <td>307.206163</td>\n",
       "      <td>6</td>\n",
       "      <td>2018</td>\n",
       "      <td>1149</td>\n",
       "      <td>71.0</td>\n",
       "    </tr>\n",
       "    <tr>\n",
       "      <th>2</th>\n",
       "      <td>2</td>\n",
       "      <td>1149.0</td>\n",
       "      <td>2018-09-23</td>\n",
       "      <td>4</td>\n",
       "      <td>1327.170365</td>\n",
       "      <td>9</td>\n",
       "      <td>2018</td>\n",
       "      <td>1149</td>\n",
       "      <td>71.0</td>\n",
       "    </tr>\n",
       "    <tr>\n",
       "      <th>3</th>\n",
       "      <td>3</td>\n",
       "      <td>1149.0</td>\n",
       "      <td>2018-07-04</td>\n",
       "      <td>22</td>\n",
       "      <td>151.766925</td>\n",
       "      <td>7</td>\n",
       "      <td>2018</td>\n",
       "      <td>1149</td>\n",
       "      <td>71.0</td>\n",
       "    </tr>\n",
       "    <tr>\n",
       "      <th>4</th>\n",
       "      <td>4</td>\n",
       "      <td>1149.0</td>\n",
       "      <td>2018-09-20</td>\n",
       "      <td>60</td>\n",
       "      <td>140.601729</td>\n",
       "      <td>9</td>\n",
       "      <td>2018</td>\n",
       "      <td>1149</td>\n",
       "      <td>71.0</td>\n",
       "    </tr>\n",
       "    <tr>\n",
       "      <th>...</th>\n",
       "      <td>...</td>\n",
       "      <td>...</td>\n",
       "      <td>...</td>\n",
       "      <td>...</td>\n",
       "      <td>...</td>\n",
       "      <td>...</td>\n",
       "      <td>...</td>\n",
       "      <td>...</td>\n",
       "      <td>...</td>\n",
       "    </tr>\n",
       "    <tr>\n",
       "      <th>28794</th>\n",
       "      <td>28794</td>\n",
       "      <td>562.0</td>\n",
       "      <td>2019-05-11</td>\n",
       "      <td>74</td>\n",
       "      <td>592.305574</td>\n",
       "      <td>5</td>\n",
       "      <td>2019</td>\n",
       "      <td>562</td>\n",
       "      <td>22.0</td>\n",
       "    </tr>\n",
       "    <tr>\n",
       "      <th>28795</th>\n",
       "      <td>28795</td>\n",
       "      <td>562.0</td>\n",
       "      <td>2018-12-08</td>\n",
       "      <td>74</td>\n",
       "      <td>232.074279</td>\n",
       "      <td>12</td>\n",
       "      <td>2018</td>\n",
       "      <td>562</td>\n",
       "      <td>22.0</td>\n",
       "    </tr>\n",
       "    <tr>\n",
       "      <th>28796</th>\n",
       "      <td>28796</td>\n",
       "      <td>562.0</td>\n",
       "      <td>2018-12-16</td>\n",
       "      <td>74</td>\n",
       "      <td>1075.034721</td>\n",
       "      <td>12</td>\n",
       "      <td>2018</td>\n",
       "      <td>562</td>\n",
       "      <td>22.0</td>\n",
       "    </tr>\n",
       "    <tr>\n",
       "      <th>28797</th>\n",
       "      <td>28797</td>\n",
       "      <td>562.0</td>\n",
       "      <td>2018-11-04</td>\n",
       "      <td>29</td>\n",
       "      <td>431.440952</td>\n",
       "      <td>11</td>\n",
       "      <td>2018</td>\n",
       "      <td>562</td>\n",
       "      <td>22.0</td>\n",
       "    </tr>\n",
       "    <tr>\n",
       "      <th>28798</th>\n",
       "      <td>28798</td>\n",
       "      <td>562.0</td>\n",
       "      <td>2018-09-07</td>\n",
       "      <td>73</td>\n",
       "      <td>91.104236</td>\n",
       "      <td>9</td>\n",
       "      <td>2018</td>\n",
       "      <td>562</td>\n",
       "      <td>22.0</td>\n",
       "    </tr>\n",
       "  </tbody>\n",
       "</table>\n",
       "<p>28799 rows × 9 columns</p>\n",
       "</div>"
      ],
      "text/plain": [
       "       index  customer_id       date  shop_id  total_price  month  year  \\\n",
       "0          0       1149.0 2019-05-15       60    40.143994      5  2019   \n",
       "1          1       1149.0 2018-06-14       60   307.206163      6  2018   \n",
       "2          2       1149.0 2018-09-23        4  1327.170365      9  2018   \n",
       "3          3       1149.0 2018-07-04       22   151.766925      7  2018   \n",
       "4          4       1149.0 2018-09-20       60   140.601729      9  2018   \n",
       "...      ...          ...        ...      ...          ...    ...   ...   \n",
       "28794  28794        562.0 2019-05-11       74   592.305574      5  2019   \n",
       "28795  28795        562.0 2018-12-08       74   232.074279     12  2018   \n",
       "28796  28796        562.0 2018-12-16       74  1075.034721     12  2018   \n",
       "28797  28797        562.0 2018-11-04       29   431.440952     11  2018   \n",
       "28798  28798        562.0 2018-09-07       73    91.104236      9  2018   \n",
       "\n",
       "       customer id   age  \n",
       "0             1149  71.0  \n",
       "1             1149  71.0  \n",
       "2             1149  71.0  \n",
       "3             1149  71.0  \n",
       "4             1149  71.0  \n",
       "...            ...   ...  \n",
       "28794          562  22.0  \n",
       "28795          562  22.0  \n",
       "28796          562  22.0  \n",
       "28797          562  22.0  \n",
       "28798          562  22.0  \n",
       "\n",
       "[28799 rows x 9 columns]"
      ]
     },
     "execution_count": 43,
     "metadata": {},
     "output_type": "execute_result"
    }
   ],
   "source": [
    "purchases_c"
   ]
  },
  {
   "cell_type": "code",
   "execution_count": 44,
   "id": "9f055960",
   "metadata": {},
   "outputs": [],
   "source": [
    "full_df = purchases_c.merge(shops, on='shop_id')"
   ]
  },
  {
   "cell_type": "code",
   "execution_count": 45,
   "id": "f10c85e6",
   "metadata": {
    "deletable": false,
    "editable": false,
    "id": "f10c85e6",
    "nbgrader": {
     "checksum": "f015cc3e9b8370425cdaf4ad4b395946",
     "grade": true,
     "grade_id": "cell-484af97a03241903",
     "locked": true,
     "points": 1,
     "schema_version": 3,
     "solution": false,
     "task": false
    }
   },
   "outputs": [],
   "source": [
    "assert (\n",
    "    full_df.query(\"index == 1207\")\n",
    "    .iloc[0][[\"customer_id\", \"date\", \"shop_id\", \"total_price\"]]\n",
    "    .equals(purchases_c.loc[1207][[\"customer_id\", \"date\", \"shop_id\", \"total_price\"]])\n",
    ")"
   ]
  },
  {
   "cell_type": "markdown",
   "id": "bfcd65fb",
   "metadata": {
    "id": "bfcd65fb"
   },
   "source": [
    "### Problem 17 (autograded)\n",
    "Now we need to check for each purchase, did it happen during any of the special offers or not. In the dataset `full_df`, each row relates some purchase with some special offer that happened in the same shop as a purchase. Let us check, is it true that this purchase happened during the corresponding offer? Add a column `offer` that contains values `True` or `False` that answer this question. To do so, we have to compare the value in column `date` with values in columns `offer_begin` and `offer_end`. Let us assume that `offer_end` is the last day of the offer (so the offer still holds during this day). Name the corresponding dataframe `full_df_offer`. Note that you can compare between dates, but not between dates and strings. Convert your data appropriately.\n"
   ]
  },
  {
   "cell_type": "code",
   "execution_count": 46,
   "id": "d30311dd",
   "metadata": {
    "deletable": false,
    "id": "d30311dd",
    "nbgrader": {
     "checksum": "338c8fa45dcfcdf2403e1e16fd7acfe3",
     "grade": false,
     "grade_id": "cell-72280e238346d5dc",
     "locked": false,
     "schema_version": 3,
     "solution": true,
     "task": false
    }
   },
   "outputs": [],
   "source": [
    "full_df['date'] = pd.to_datetime(full_df['date'])\n",
    "full_df['offer_begin'] = pd.to_datetime(full_df['offer_begin'])\n",
    "full_df['offer_end'] = pd.to_datetime(full_df['offer_end'])\n"
   ]
  },
  {
   "cell_type": "code",
   "execution_count": 47,
   "id": "c63ee102",
   "metadata": {},
   "outputs": [],
   "source": [
    "full_df['offer'] = np.where((full_df['offer_begin'] <= full_df['date']) & (full_df['date'] <= full_df['offer_end']), \n",
    "                            True, False)"
   ]
  },
  {
   "cell_type": "code",
   "execution_count": 48,
   "id": "354fa2c0",
   "metadata": {},
   "outputs": [],
   "source": [
    "full_df_offer = full_df.copy()"
   ]
  },
  {
   "cell_type": "code",
   "execution_count": 49,
   "id": "bcc6bc3b",
   "metadata": {},
   "outputs": [
    {
     "data": {
      "text/html": [
       "<div>\n",
       "<style scoped>\n",
       "    .dataframe tbody tr th:only-of-type {\n",
       "        vertical-align: middle;\n",
       "    }\n",
       "\n",
       "    .dataframe tbody tr th {\n",
       "        vertical-align: top;\n",
       "    }\n",
       "\n",
       "    .dataframe thead th {\n",
       "        text-align: right;\n",
       "    }\n",
       "</style>\n",
       "<table border=\"1\" class=\"dataframe\">\n",
       "  <thead>\n",
       "    <tr style=\"text-align: right;\">\n",
       "      <th></th>\n",
       "      <th>index</th>\n",
       "      <th>customer_id</th>\n",
       "      <th>date</th>\n",
       "      <th>shop_id</th>\n",
       "      <th>total_price</th>\n",
       "      <th>month</th>\n",
       "      <th>year</th>\n",
       "      <th>customer id</th>\n",
       "      <th>age</th>\n",
       "      <th>offer_begin</th>\n",
       "      <th>offer_end</th>\n",
       "      <th>offer</th>\n",
       "    </tr>\n",
       "  </thead>\n",
       "  <tbody>\n",
       "    <tr>\n",
       "      <th>0</th>\n",
       "      <td>0</td>\n",
       "      <td>1149.0</td>\n",
       "      <td>2019-05-15</td>\n",
       "      <td>60</td>\n",
       "      <td>40.143994</td>\n",
       "      <td>5</td>\n",
       "      <td>2019</td>\n",
       "      <td>1149</td>\n",
       "      <td>71.0</td>\n",
       "      <td>2018-07-07</td>\n",
       "      <td>2018-08-02</td>\n",
       "      <td>False</td>\n",
       "    </tr>\n",
       "    <tr>\n",
       "      <th>1</th>\n",
       "      <td>1</td>\n",
       "      <td>1149.0</td>\n",
       "      <td>2018-06-14</td>\n",
       "      <td>60</td>\n",
       "      <td>307.206163</td>\n",
       "      <td>6</td>\n",
       "      <td>2018</td>\n",
       "      <td>1149</td>\n",
       "      <td>71.0</td>\n",
       "      <td>2018-07-07</td>\n",
       "      <td>2018-08-02</td>\n",
       "      <td>False</td>\n",
       "    </tr>\n",
       "    <tr>\n",
       "      <th>2</th>\n",
       "      <td>4</td>\n",
       "      <td>1149.0</td>\n",
       "      <td>2018-09-20</td>\n",
       "      <td>60</td>\n",
       "      <td>140.601729</td>\n",
       "      <td>9</td>\n",
       "      <td>2018</td>\n",
       "      <td>1149</td>\n",
       "      <td>71.0</td>\n",
       "      <td>2018-07-07</td>\n",
       "      <td>2018-08-02</td>\n",
       "      <td>False</td>\n",
       "    </tr>\n",
       "    <tr>\n",
       "      <th>3</th>\n",
       "      <td>6</td>\n",
       "      <td>1149.0</td>\n",
       "      <td>2018-07-08</td>\n",
       "      <td>60</td>\n",
       "      <td>374.177967</td>\n",
       "      <td>7</td>\n",
       "      <td>2018</td>\n",
       "      <td>1149</td>\n",
       "      <td>71.0</td>\n",
       "      <td>2018-07-07</td>\n",
       "      <td>2018-08-02</td>\n",
       "      <td>True</td>\n",
       "    </tr>\n",
       "    <tr>\n",
       "      <th>4</th>\n",
       "      <td>7</td>\n",
       "      <td>1149.0</td>\n",
       "      <td>2018-06-07</td>\n",
       "      <td>60</td>\n",
       "      <td>182.141624</td>\n",
       "      <td>6</td>\n",
       "      <td>2018</td>\n",
       "      <td>1149</td>\n",
       "      <td>71.0</td>\n",
       "      <td>2018-07-07</td>\n",
       "      <td>2018-08-02</td>\n",
       "      <td>False</td>\n",
       "    </tr>\n",
       "    <tr>\n",
       "      <th>...</th>\n",
       "      <td>...</td>\n",
       "      <td>...</td>\n",
       "      <td>...</td>\n",
       "      <td>...</td>\n",
       "      <td>...</td>\n",
       "      <td>...</td>\n",
       "      <td>...</td>\n",
       "      <td>...</td>\n",
       "      <td>...</td>\n",
       "      <td>...</td>\n",
       "      <td>...</td>\n",
       "      <td>...</td>\n",
       "    </tr>\n",
       "    <tr>\n",
       "      <th>69403</th>\n",
       "      <td>28675</td>\n",
       "      <td>784.0</td>\n",
       "      <td>2018-12-11</td>\n",
       "      <td>31</td>\n",
       "      <td>305.124843</td>\n",
       "      <td>12</td>\n",
       "      <td>2018</td>\n",
       "      <td>784</td>\n",
       "      <td>NaN</td>\n",
       "      <td>2018-12-20</td>\n",
       "      <td>2018-12-28</td>\n",
       "      <td>False</td>\n",
       "    </tr>\n",
       "    <tr>\n",
       "      <th>69404</th>\n",
       "      <td>28675</td>\n",
       "      <td>784.0</td>\n",
       "      <td>2018-12-11</td>\n",
       "      <td>31</td>\n",
       "      <td>305.124843</td>\n",
       "      <td>12</td>\n",
       "      <td>2018</td>\n",
       "      <td>784</td>\n",
       "      <td>NaN</td>\n",
       "      <td>2019-02-22</td>\n",
       "      <td>2019-03-14</td>\n",
       "      <td>False</td>\n",
       "    </tr>\n",
       "    <tr>\n",
       "      <th>69405</th>\n",
       "      <td>28675</td>\n",
       "      <td>784.0</td>\n",
       "      <td>2018-12-11</td>\n",
       "      <td>31</td>\n",
       "      <td>305.124843</td>\n",
       "      <td>12</td>\n",
       "      <td>2018</td>\n",
       "      <td>784</td>\n",
       "      <td>NaN</td>\n",
       "      <td>2018-09-22</td>\n",
       "      <td>2018-10-11</td>\n",
       "      <td>False</td>\n",
       "    </tr>\n",
       "    <tr>\n",
       "      <th>69406</th>\n",
       "      <td>28675</td>\n",
       "      <td>784.0</td>\n",
       "      <td>2018-12-11</td>\n",
       "      <td>31</td>\n",
       "      <td>305.124843</td>\n",
       "      <td>12</td>\n",
       "      <td>2018</td>\n",
       "      <td>784</td>\n",
       "      <td>NaN</td>\n",
       "      <td>2018-06-07</td>\n",
       "      <td>2018-07-10</td>\n",
       "      <td>False</td>\n",
       "    </tr>\n",
       "    <tr>\n",
       "      <th>69407</th>\n",
       "      <td>28675</td>\n",
       "      <td>784.0</td>\n",
       "      <td>2018-12-11</td>\n",
       "      <td>31</td>\n",
       "      <td>305.124843</td>\n",
       "      <td>12</td>\n",
       "      <td>2018</td>\n",
       "      <td>784</td>\n",
       "      <td>NaN</td>\n",
       "      <td>2018-12-12</td>\n",
       "      <td>2019-01-18</td>\n",
       "      <td>False</td>\n",
       "    </tr>\n",
       "  </tbody>\n",
       "</table>\n",
       "<p>69408 rows × 12 columns</p>\n",
       "</div>"
      ],
      "text/plain": [
       "       index  customer_id       date  shop_id  total_price  month  year  \\\n",
       "0          0       1149.0 2019-05-15       60    40.143994      5  2019   \n",
       "1          1       1149.0 2018-06-14       60   307.206163      6  2018   \n",
       "2          4       1149.0 2018-09-20       60   140.601729      9  2018   \n",
       "3          6       1149.0 2018-07-08       60   374.177967      7  2018   \n",
       "4          7       1149.0 2018-06-07       60   182.141624      6  2018   \n",
       "...      ...          ...        ...      ...          ...    ...   ...   \n",
       "69403  28675        784.0 2018-12-11       31   305.124843     12  2018   \n",
       "69404  28675        784.0 2018-12-11       31   305.124843     12  2018   \n",
       "69405  28675        784.0 2018-12-11       31   305.124843     12  2018   \n",
       "69406  28675        784.0 2018-12-11       31   305.124843     12  2018   \n",
       "69407  28675        784.0 2018-12-11       31   305.124843     12  2018   \n",
       "\n",
       "       customer id   age offer_begin  offer_end  offer  \n",
       "0             1149  71.0  2018-07-07 2018-08-02  False  \n",
       "1             1149  71.0  2018-07-07 2018-08-02  False  \n",
       "2             1149  71.0  2018-07-07 2018-08-02  False  \n",
       "3             1149  71.0  2018-07-07 2018-08-02   True  \n",
       "4             1149  71.0  2018-07-07 2018-08-02  False  \n",
       "...            ...   ...         ...        ...    ...  \n",
       "69403          784   NaN  2018-12-20 2018-12-28  False  \n",
       "69404          784   NaN  2019-02-22 2019-03-14  False  \n",
       "69405          784   NaN  2018-09-22 2018-10-11  False  \n",
       "69406          784   NaN  2018-06-07 2018-07-10  False  \n",
       "69407          784   NaN  2018-12-12 2019-01-18  False  \n",
       "\n",
       "[69408 rows x 12 columns]"
      ]
     },
     "execution_count": 49,
     "metadata": {},
     "output_type": "execute_result"
    }
   ],
   "source": [
    "full_df_offer"
   ]
  },
  {
   "cell_type": "code",
   "execution_count": 50,
   "id": "4d7d09fd",
   "metadata": {
    "deletable": false,
    "editable": false,
    "id": "4d7d09fd",
    "nbgrader": {
     "checksum": "5bc3c6253b86389489682486f3909035",
     "grade": true,
     "grade_id": "cell-158644e2bb557078",
     "locked": true,
     "points": 2,
     "schema_version": 3,
     "solution": false,
     "task": false
    }
   },
   "outputs": [],
   "source": [
    "from itertools import islice\n",
    "\n",
    "for _, row in islice(full_df_offer.iterrows(), 0, 1000):\n",
    "    assert (\n",
    "        (pd.to_datetime(row[\"date\"]) >= pd.to_datetime(row[\"offer_begin\"]))\n",
    "        & (pd.to_datetime(row[\"date\"]) <= pd.to_datetime(row[\"offer_end\"]))\n",
    "    ) == row[\"offer\"]"
   ]
  },
  {
   "cell_type": "markdown",
   "id": "2a2d0fe6",
   "metadata": {
    "id": "2a2d0fe6"
   },
   "source": [
    "### Almost here\n",
    "Now we have a table that contains information on whether a particular purchase happened during a particular special offer. What we need is a new table that contains information on whether a particular purchase happened during *any* relevant special offer. This can be done by grouping and aggregating. Basically, we need to group our table by column `index` that contains a purchase identifier and apply a special aggregation function `any` to column `offer`. This function checks if there is any `True` element in a group and returns `True` in this case, otherwise (everything is `False`) it returns false. Also, we have to keep all other columns that are related to purchases as is. They are duplicated in the group, so we can just get the first value. This is done by the aggregation function `first`. To apply these functions to different columns, we have to pass a dictionary to method `.agg`. Let's see what's happening.\n"
   ]
  },
  {
   "cell_type": "code",
   "execution_count": 51,
   "id": "b601d6b3",
   "metadata": {
    "id": "b601d6b3"
   },
   "outputs": [
    {
     "data": {
      "text/html": [
       "<div>\n",
       "<style scoped>\n",
       "    .dataframe tbody tr th:only-of-type {\n",
       "        vertical-align: middle;\n",
       "    }\n",
       "\n",
       "    .dataframe tbody tr th {\n",
       "        vertical-align: top;\n",
       "    }\n",
       "\n",
       "    .dataframe thead th {\n",
       "        text-align: right;\n",
       "    }\n",
       "</style>\n",
       "<table border=\"1\" class=\"dataframe\">\n",
       "  <thead>\n",
       "    <tr style=\"text-align: right;\">\n",
       "      <th></th>\n",
       "      <th>customer_id</th>\n",
       "      <th>date</th>\n",
       "      <th>shop_id</th>\n",
       "      <th>total_price</th>\n",
       "      <th>month</th>\n",
       "      <th>age</th>\n",
       "      <th>offer</th>\n",
       "    </tr>\n",
       "    <tr>\n",
       "      <th>index</th>\n",
       "      <th></th>\n",
       "      <th></th>\n",
       "      <th></th>\n",
       "      <th></th>\n",
       "      <th></th>\n",
       "      <th></th>\n",
       "      <th></th>\n",
       "    </tr>\n",
       "  </thead>\n",
       "  <tbody>\n",
       "    <tr>\n",
       "      <th>0</th>\n",
       "      <td>1149.0</td>\n",
       "      <td>2019-05-15</td>\n",
       "      <td>60</td>\n",
       "      <td>40.143994</td>\n",
       "      <td>5</td>\n",
       "      <td>71.0</td>\n",
       "      <td>False</td>\n",
       "    </tr>\n",
       "    <tr>\n",
       "      <th>1</th>\n",
       "      <td>1149.0</td>\n",
       "      <td>2018-06-14</td>\n",
       "      <td>60</td>\n",
       "      <td>307.206163</td>\n",
       "      <td>6</td>\n",
       "      <td>71.0</td>\n",
       "      <td>False</td>\n",
       "    </tr>\n",
       "    <tr>\n",
       "      <th>2</th>\n",
       "      <td>1149.0</td>\n",
       "      <td>2018-09-23</td>\n",
       "      <td>4</td>\n",
       "      <td>1327.170365</td>\n",
       "      <td>9</td>\n",
       "      <td>71.0</td>\n",
       "      <td>True</td>\n",
       "    </tr>\n",
       "    <tr>\n",
       "      <th>3</th>\n",
       "      <td>1149.0</td>\n",
       "      <td>2018-07-04</td>\n",
       "      <td>22</td>\n",
       "      <td>151.766925</td>\n",
       "      <td>7</td>\n",
       "      <td>71.0</td>\n",
       "      <td>False</td>\n",
       "    </tr>\n",
       "    <tr>\n",
       "      <th>4</th>\n",
       "      <td>1149.0</td>\n",
       "      <td>2018-09-20</td>\n",
       "      <td>60</td>\n",
       "      <td>140.601729</td>\n",
       "      <td>9</td>\n",
       "      <td>71.0</td>\n",
       "      <td>False</td>\n",
       "    </tr>\n",
       "    <tr>\n",
       "      <th>...</th>\n",
       "      <td>...</td>\n",
       "      <td>...</td>\n",
       "      <td>...</td>\n",
       "      <td>...</td>\n",
       "      <td>...</td>\n",
       "      <td>...</td>\n",
       "      <td>...</td>\n",
       "    </tr>\n",
       "    <tr>\n",
       "      <th>28794</th>\n",
       "      <td>562.0</td>\n",
       "      <td>2019-05-11</td>\n",
       "      <td>74</td>\n",
       "      <td>592.305574</td>\n",
       "      <td>5</td>\n",
       "      <td>22.0</td>\n",
       "      <td>False</td>\n",
       "    </tr>\n",
       "    <tr>\n",
       "      <th>28795</th>\n",
       "      <td>562.0</td>\n",
       "      <td>2018-12-08</td>\n",
       "      <td>74</td>\n",
       "      <td>232.074279</td>\n",
       "      <td>12</td>\n",
       "      <td>22.0</td>\n",
       "      <td>True</td>\n",
       "    </tr>\n",
       "    <tr>\n",
       "      <th>28796</th>\n",
       "      <td>562.0</td>\n",
       "      <td>2018-12-16</td>\n",
       "      <td>74</td>\n",
       "      <td>1075.034721</td>\n",
       "      <td>12</td>\n",
       "      <td>22.0</td>\n",
       "      <td>True</td>\n",
       "    </tr>\n",
       "    <tr>\n",
       "      <th>28797</th>\n",
       "      <td>562.0</td>\n",
       "      <td>2018-11-04</td>\n",
       "      <td>29</td>\n",
       "      <td>431.440952</td>\n",
       "      <td>11</td>\n",
       "      <td>22.0</td>\n",
       "      <td>False</td>\n",
       "    </tr>\n",
       "    <tr>\n",
       "      <th>28798</th>\n",
       "      <td>562.0</td>\n",
       "      <td>2018-09-07</td>\n",
       "      <td>73</td>\n",
       "      <td>91.104236</td>\n",
       "      <td>9</td>\n",
       "      <td>22.0</td>\n",
       "      <td>False</td>\n",
       "    </tr>\n",
       "  </tbody>\n",
       "</table>\n",
       "<p>28799 rows × 7 columns</p>\n",
       "</div>"
      ],
      "text/plain": [
       "       customer_id       date  shop_id  total_price  month   age  offer\n",
       "index                                                                  \n",
       "0           1149.0 2019-05-15       60    40.143994      5  71.0  False\n",
       "1           1149.0 2018-06-14       60   307.206163      6  71.0  False\n",
       "2           1149.0 2018-09-23        4  1327.170365      9  71.0   True\n",
       "3           1149.0 2018-07-04       22   151.766925      7  71.0  False\n",
       "4           1149.0 2018-09-20       60   140.601729      9  71.0  False\n",
       "...            ...        ...      ...          ...    ...   ...    ...\n",
       "28794        562.0 2019-05-11       74   592.305574      5  22.0  False\n",
       "28795        562.0 2018-12-08       74   232.074279     12  22.0   True\n",
       "28796        562.0 2018-12-16       74  1075.034721     12  22.0   True\n",
       "28797        562.0 2018-11-04       29   431.440952     11  22.0  False\n",
       "28798        562.0 2018-09-07       73    91.104236      9  22.0  False\n",
       "\n",
       "[28799 rows x 7 columns]"
      ]
     },
     "execution_count": 51,
     "metadata": {},
     "output_type": "execute_result"
    }
   ],
   "source": [
    "purchases_offer = full_df_offer.groupby(\"index\").agg(\n",
    "    {\n",
    "        \"customer_id\": \"first\",\n",
    "        \"date\": \"first\",\n",
    "        \"shop_id\": \"first\",\n",
    "        \"total_price\": \"first\",\n",
    "        \"month\": \"first\",\n",
    "        \"age\": \"first\",\n",
    "        \"offer\": \"any\",\n",
    "    }\n",
    ")\n",
    "purchases_offer"
   ]
  },
  {
   "cell_type": "markdown",
   "id": "90e699dd",
   "metadata": {
    "id": "90e699dd"
   },
   "source": [
    "### Problem 18 (quiz)\n",
    "Do people tend to spend more money when they make a purchase during a special offer? Let's check it!\n",
    "\n",
    "First of all, we know that during December people spend more money in shops due to holidays and at the time shops usually announce more special offers during December. As we are interested in the effect of special offers alone, let us remove all purchases that happened during December.\n",
    "\n",
    "Then create a table which rows are customers that contains two columns: in one column we have average of all prices of purchases that were made during special offers, and in the second the same for purchases that were not made during special offers. Drop all rows that contain `NaN`'s. Then apply an appropriate statistical test to check if there is any statistically significant difference between these columns. Use two-sided alternative.\n",
    "\n",
    "\n"
   ]
  },
  {
   "cell_type": "code",
   "execution_count": 52,
   "id": "e1314ed2",
   "metadata": {
    "deletable": false,
    "id": "e1314ed2",
    "nbgrader": {
     "checksum": "c8103dc0ef0df87757fec5507fde9022",
     "grade": false,
     "grade_id": "cell-ba9d2b1c164cb3e5",
     "locked": false,
     "schema_version": 3,
     "solution": true,
     "task": false
    }
   },
   "outputs": [],
   "source": [
    "purchases_offer = purchases_offer[purchases_offer['month'] != 12]\n"
   ]
  },
  {
   "cell_type": "code",
   "execution_count": 54,
   "id": "77812771",
   "metadata": {},
   "outputs": [],
   "source": [
    "purchases_offer = purchases_offer.groupby(['customer_id', 'offer'])['total_price'].mean()"
   ]
  },
  {
   "cell_type": "code",
   "execution_count": 55,
   "id": "27deadf9",
   "metadata": {},
   "outputs": [],
   "source": [
    "purchases_offer = purchases_offer.to_frame()"
   ]
  },
  {
   "cell_type": "code",
   "execution_count": 57,
   "id": "460f4fe0",
   "metadata": {},
   "outputs": [],
   "source": [
    "purchases_offer = purchases_offer.reset_index().pivot(index='customer_id', columns='offer', values='total_price')"
   ]
  },
  {
   "cell_type": "code",
   "execution_count": 59,
   "id": "d65c2d63",
   "metadata": {},
   "outputs": [],
   "source": [
    "from scipy.stats import ttest_ind"
   ]
  },
  {
   "cell_type": "code",
   "execution_count": 60,
   "id": "e2faedf7",
   "metadata": {},
   "outputs": [],
   "source": [
    "purchases_offer = purchases_offer.rename_axis(None, axis=0)"
   ]
  },
  {
   "cell_type": "code",
   "execution_count": 61,
   "id": "9fcf19fb",
   "metadata": {},
   "outputs": [],
   "source": [
    "purchases_offer = purchases_offer.rename_axis(None, axis=1)"
   ]
  },
  {
   "cell_type": "code",
   "execution_count": 62,
   "id": "675e71fc",
   "metadata": {},
   "outputs": [],
   "source": [
    "purchases_offer = purchases_offer.dropna()"
   ]
  },
  {
   "cell_type": "code",
   "execution_count": 63,
   "id": "7bcb824d",
   "metadata": {},
   "outputs": [],
   "source": [
    "col_list_1 =  list(purchases_offer[False])\n",
    "col_list_2 =  list(purchases_offer[True])"
   ]
  },
  {
   "cell_type": "code",
   "execution_count": 68,
   "id": "18a4d8cd",
   "metadata": {},
   "outputs": [
    {
     "data": {
      "text/plain": [
       "TtestResult(statistic=-16.682645056499567, pvalue=3.221672499502215e-53, df=734)"
      ]
     },
     "execution_count": 68,
     "metadata": {},
     "output_type": "execute_result"
    }
   ],
   "source": [
    "scipy.stats.ttest_rel(col_list_1, col_list_2)"
   ]
  }
 ],
 "metadata": {
  "colab": {
   "name": "Untitled1 (4).ipynb",
   "provenance": []
  },
  "kernelspec": {
   "display_name": "Python 3 (ipykernel)",
   "language": "python",
   "name": "python3"
  },
  "language_info": {
   "codemirror_mode": {
    "name": "ipython",
    "version": 3
   },
   "file_extension": ".py",
   "mimetype": "text/x-python",
   "name": "python",
   "nbconvert_exporter": "python",
   "pygments_lexer": "ipython3",
   "version": "3.10.9"
  }
 },
 "nbformat": 4,
 "nbformat_minor": 5
}
