{
 "cells": [
  {
   "cell_type": "code",
   "execution_count": 1,
   "id": "7377a8a7",
   "metadata": {},
   "outputs": [],
   "source": [
    "import numpy as np\n",
    "import pandas as pd\n",
    "import statsmodels.formula.api as smf\n",
    "import statsmodels.stats.api as sms\n",
    "import matplotlib.pyplot as plt"
   ]
  },
  {
   "attachments": {},
   "cell_type": "markdown",
   "id": "6fbfaa70",
   "metadata": {},
   "source": [
    "## Selection of covariates\n",
    "\n",
    "After examining the graph we come to conclusion that there are no frontdoor paths from treatment to growth. All backdoor paths, but for the one that goes through unobserved confounders and dt are blocked because they contain colliders (e.g. dCoa is a collider). As unobserved confounders are not evaluated statistically, we do not have to adust for them. So, our only option for valid set is dt.\n",
    "\n",
    "Logic is pretty the same when we consider the path from treatment to dANb. Only difference is that we can block the path treatment - uc - dt - growth - dANb by blocking either dt or Growth. So, {dt}, {growth} or {dt, growth} are valid sets for this case."
   ]
  },
  {
   "cell_type": "code",
   "execution_count": 2,
   "id": "8277ac6f",
   "metadata": {},
   "outputs": [
    {
     "data": {
      "text/html": [
       "<div>\n",
       "<style scoped>\n",
       "    .dataframe tbody tr th:only-of-type {\n",
       "        vertical-align: middle;\n",
       "    }\n",
       "\n",
       "    .dataframe tbody tr th {\n",
       "        vertical-align: top;\n",
       "    }\n",
       "\n",
       "    .dataframe thead th {\n",
       "        text-align: right;\n",
       "    }\n",
       "</style>\n",
       "<table border=\"1\" class=\"dataframe\">\n",
       "  <thead>\n",
       "    <tr style=\"text-align: right;\">\n",
       "      <th></th>\n",
       "      <th>dANB</th>\n",
       "      <th>dPPPM</th>\n",
       "      <th>dIMPA</th>\n",
       "      <th>dCoA</th>\n",
       "      <th>dGoPg</th>\n",
       "      <th>dCoGo</th>\n",
       "      <th>dT</th>\n",
       "      <th>Growth</th>\n",
       "      <th>Treatment</th>\n",
       "    </tr>\n",
       "  </thead>\n",
       "  <tbody>\n",
       "    <tr>\n",
       "      <th>0</th>\n",
       "      <td>-3.2</td>\n",
       "      <td>-1.1</td>\n",
       "      <td>-4.2</td>\n",
       "      <td>1.0</td>\n",
       "      <td>4.0</td>\n",
       "      <td>3.7</td>\n",
       "      <td>5</td>\n",
       "      <td>0</td>\n",
       "      <td>0</td>\n",
       "    </tr>\n",
       "    <tr>\n",
       "      <th>1</th>\n",
       "      <td>-0.6</td>\n",
       "      <td>-0.5</td>\n",
       "      <td>3.8</td>\n",
       "      <td>2.6</td>\n",
       "      <td>-0.1</td>\n",
       "      <td>1.4</td>\n",
       "      <td>3</td>\n",
       "      <td>1</td>\n",
       "      <td>0</td>\n",
       "    </tr>\n",
       "    <tr>\n",
       "      <th>2</th>\n",
       "      <td>-1.6</td>\n",
       "      <td>-3.1</td>\n",
       "      <td>-6.0</td>\n",
       "      <td>4.3</td>\n",
       "      <td>4.2</td>\n",
       "      <td>7.1</td>\n",
       "      <td>5</td>\n",
       "      <td>0</td>\n",
       "      <td>0</td>\n",
       "    </tr>\n",
       "    <tr>\n",
       "      <th>3</th>\n",
       "      <td>-1.1</td>\n",
       "      <td>-2.1</td>\n",
       "      <td>-12.1</td>\n",
       "      <td>14.1</td>\n",
       "      <td>20.7</td>\n",
       "      <td>17.5</td>\n",
       "      <td>9</td>\n",
       "      <td>0</td>\n",
       "      <td>0</td>\n",
       "    </tr>\n",
       "    <tr>\n",
       "      <th>4</th>\n",
       "      <td>-1.1</td>\n",
       "      <td>0.0</td>\n",
       "      <td>-6.7</td>\n",
       "      <td>7.7</td>\n",
       "      <td>8.8</td>\n",
       "      <td>11.0</td>\n",
       "      <td>5</td>\n",
       "      <td>0</td>\n",
       "      <td>0</td>\n",
       "    </tr>\n",
       "    <tr>\n",
       "      <th>...</th>\n",
       "      <td>...</td>\n",
       "      <td>...</td>\n",
       "      <td>...</td>\n",
       "      <td>...</td>\n",
       "      <td>...</td>\n",
       "      <td>...</td>\n",
       "      <td>...</td>\n",
       "      <td>...</td>\n",
       "      <td>...</td>\n",
       "    </tr>\n",
       "    <tr>\n",
       "      <th>138</th>\n",
       "      <td>0.8</td>\n",
       "      <td>-2.1</td>\n",
       "      <td>-2.0</td>\n",
       "      <td>2.7</td>\n",
       "      <td>2.0</td>\n",
       "      <td>3.3</td>\n",
       "      <td>5</td>\n",
       "      <td>1</td>\n",
       "      <td>1</td>\n",
       "    </tr>\n",
       "    <tr>\n",
       "      <th>139</th>\n",
       "      <td>2.1</td>\n",
       "      <td>0.7</td>\n",
       "      <td>1.4</td>\n",
       "      <td>8.2</td>\n",
       "      <td>12.8</td>\n",
       "      <td>9.1</td>\n",
       "      <td>10</td>\n",
       "      <td>1</td>\n",
       "      <td>1</td>\n",
       "    </tr>\n",
       "    <tr>\n",
       "      <th>140</th>\n",
       "      <td>-0.2</td>\n",
       "      <td>-3.3</td>\n",
       "      <td>-2.7</td>\n",
       "      <td>6.8</td>\n",
       "      <td>3.4</td>\n",
       "      <td>10.9</td>\n",
       "      <td>4</td>\n",
       "      <td>1</td>\n",
       "      <td>1</td>\n",
       "    </tr>\n",
       "    <tr>\n",
       "      <th>141</th>\n",
       "      <td>1.5</td>\n",
       "      <td>-3.5</td>\n",
       "      <td>1.8</td>\n",
       "      <td>4.6</td>\n",
       "      <td>6.5</td>\n",
       "      <td>6.2</td>\n",
       "      <td>5</td>\n",
       "      <td>1</td>\n",
       "      <td>1</td>\n",
       "    </tr>\n",
       "    <tr>\n",
       "      <th>142</th>\n",
       "      <td>1.3</td>\n",
       "      <td>-3.0</td>\n",
       "      <td>-19.0</td>\n",
       "      <td>7.0</td>\n",
       "      <td>4.5</td>\n",
       "      <td>6.0</td>\n",
       "      <td>2</td>\n",
       "      <td>1</td>\n",
       "      <td>1</td>\n",
       "    </tr>\n",
       "  </tbody>\n",
       "</table>\n",
       "<p>143 rows × 9 columns</p>\n",
       "</div>"
      ],
      "text/plain": [
       "     dANB  dPPPM  dIMPA  dCoA  dGoPg  dCoGo  dT  Growth  Treatment\n",
       "0    -3.2   -1.1   -4.2   1.0    4.0    3.7   5       0          0\n",
       "1    -0.6   -0.5    3.8   2.6   -0.1    1.4   3       1          0\n",
       "2    -1.6   -3.1   -6.0   4.3    4.2    7.1   5       0          0\n",
       "3    -1.1   -2.1  -12.1  14.1   20.7   17.5   9       0          0\n",
       "4    -1.1    0.0   -6.7   7.7    8.8   11.0   5       0          0\n",
       "..    ...    ...    ...   ...    ...    ...  ..     ...        ...\n",
       "138   0.8   -2.1   -2.0   2.7    2.0    3.3   5       1          1\n",
       "139   2.1    0.7    1.4   8.2   12.8    9.1  10       1          1\n",
       "140  -0.2   -3.3   -2.7   6.8    3.4   10.9   4       1          1\n",
       "141   1.5   -3.5    1.8   4.6    6.5    6.2   5       1          1\n",
       "142   1.3   -3.0  -19.0   7.0    4.5    6.0   2       1          1\n",
       "\n",
       "[143 rows x 9 columns]"
      ]
     },
     "execution_count": 2,
     "metadata": {},
     "output_type": "execute_result"
    }
   ],
   "source": [
    "##Let's look at our data first\n",
    "malocussion = pd.read_csv('malocclusion.csv')\n",
    "malocussion"
   ]
  },
  {
   "cell_type": "code",
   "execution_count": 35,
   "id": "7b2e0176",
   "metadata": {},
   "outputs": [
    {
     "data": {
      "text/html": [
       "<div>\n",
       "<style scoped>\n",
       "    .dataframe tbody tr th:only-of-type {\n",
       "        vertical-align: middle;\n",
       "    }\n",
       "\n",
       "    .dataframe tbody tr th {\n",
       "        vertical-align: top;\n",
       "    }\n",
       "\n",
       "    .dataframe thead th {\n",
       "        text-align: right;\n",
       "    }\n",
       "</style>\n",
       "<table border=\"1\" class=\"dataframe\">\n",
       "  <thead>\n",
       "    <tr style=\"text-align: right;\">\n",
       "      <th></th>\n",
       "      <th>dANB</th>\n",
       "      <th>dPPPM</th>\n",
       "      <th>dIMPA</th>\n",
       "      <th>dCoA</th>\n",
       "      <th>dGoPg</th>\n",
       "      <th>dCoGo</th>\n",
       "      <th>dT</th>\n",
       "      <th>Growth</th>\n",
       "      <th>Treatment</th>\n",
       "    </tr>\n",
       "  </thead>\n",
       "  <tbody>\n",
       "    <tr>\n",
       "      <th>count</th>\n",
       "      <td>143.000000</td>\n",
       "      <td>143.000000</td>\n",
       "      <td>143.000000</td>\n",
       "      <td>143.000000</td>\n",
       "      <td>143.000000</td>\n",
       "      <td>143.000000</td>\n",
       "      <td>143.000000</td>\n",
       "      <td>143.000000</td>\n",
       "      <td>143.000000</td>\n",
       "    </tr>\n",
       "    <tr>\n",
       "      <th>mean</th>\n",
       "      <td>-0.227273</td>\n",
       "      <td>-1.374825</td>\n",
       "      <td>-0.785315</td>\n",
       "      <td>5.987413</td>\n",
       "      <td>7.730769</td>\n",
       "      <td>6.732867</td>\n",
       "      <td>4.706294</td>\n",
       "      <td>0.405594</td>\n",
       "      <td>0.461538</td>\n",
       "    </tr>\n",
       "    <tr>\n",
       "      <th>std</th>\n",
       "      <td>1.826225</td>\n",
       "      <td>2.715046</td>\n",
       "      <td>5.080894</td>\n",
       "      <td>4.469692</td>\n",
       "      <td>5.532417</td>\n",
       "      <td>4.595141</td>\n",
       "      <td>2.550427</td>\n",
       "      <td>0.492733</td>\n",
       "      <td>0.500271</td>\n",
       "    </tr>\n",
       "    <tr>\n",
       "      <th>min</th>\n",
       "      <td>-5.100000</td>\n",
       "      <td>-9.300000</td>\n",
       "      <td>-19.000000</td>\n",
       "      <td>-0.900000</td>\n",
       "      <td>-1.400000</td>\n",
       "      <td>-2.600000</td>\n",
       "      <td>1.000000</td>\n",
       "      <td>0.000000</td>\n",
       "      <td>0.000000</td>\n",
       "    </tr>\n",
       "    <tr>\n",
       "      <th>25%</th>\n",
       "      <td>-1.350000</td>\n",
       "      <td>-2.750000</td>\n",
       "      <td>-3.450000</td>\n",
       "      <td>1.800000</td>\n",
       "      <td>3.200000</td>\n",
       "      <td>3.050000</td>\n",
       "      <td>3.000000</td>\n",
       "      <td>0.000000</td>\n",
       "      <td>0.000000</td>\n",
       "    </tr>\n",
       "    <tr>\n",
       "      <th>50%</th>\n",
       "      <td>-0.300000</td>\n",
       "      <td>-1.400000</td>\n",
       "      <td>-0.400000</td>\n",
       "      <td>5.500000</td>\n",
       "      <td>6.200000</td>\n",
       "      <td>6.300000</td>\n",
       "      <td>4.000000</td>\n",
       "      <td>0.000000</td>\n",
       "      <td>0.000000</td>\n",
       "    </tr>\n",
       "    <tr>\n",
       "      <th>75%</th>\n",
       "      <td>0.950000</td>\n",
       "      <td>0.050000</td>\n",
       "      <td>2.100000</td>\n",
       "      <td>9.750000</td>\n",
       "      <td>12.750000</td>\n",
       "      <td>10.350000</td>\n",
       "      <td>6.000000</td>\n",
       "      <td>1.000000</td>\n",
       "      <td>1.000000</td>\n",
       "    </tr>\n",
       "    <tr>\n",
       "      <th>max</th>\n",
       "      <td>4.900000</td>\n",
       "      <td>6.500000</td>\n",
       "      <td>12.000000</td>\n",
       "      <td>20.000000</td>\n",
       "      <td>23.300000</td>\n",
       "      <td>17.500000</td>\n",
       "      <td>12.000000</td>\n",
       "      <td>1.000000</td>\n",
       "      <td>1.000000</td>\n",
       "    </tr>\n",
       "  </tbody>\n",
       "</table>\n",
       "</div>"
      ],
      "text/plain": [
       "             dANB       dPPPM       dIMPA        dCoA       dGoPg       dCoGo  \\\n",
       "count  143.000000  143.000000  143.000000  143.000000  143.000000  143.000000   \n",
       "mean    -0.227273   -1.374825   -0.785315    5.987413    7.730769    6.732867   \n",
       "std      1.826225    2.715046    5.080894    4.469692    5.532417    4.595141   \n",
       "min     -5.100000   -9.300000  -19.000000   -0.900000   -1.400000   -2.600000   \n",
       "25%     -1.350000   -2.750000   -3.450000    1.800000    3.200000    3.050000   \n",
       "50%     -0.300000   -1.400000   -0.400000    5.500000    6.200000    6.300000   \n",
       "75%      0.950000    0.050000    2.100000    9.750000   12.750000   10.350000   \n",
       "max      4.900000    6.500000   12.000000   20.000000   23.300000   17.500000   \n",
       "\n",
       "               dT      Growth   Treatment  \n",
       "count  143.000000  143.000000  143.000000  \n",
       "mean     4.706294    0.405594    0.461538  \n",
       "std      2.550427    0.492733    0.500271  \n",
       "min      1.000000    0.000000    0.000000  \n",
       "25%      3.000000    0.000000    0.000000  \n",
       "50%      4.000000    0.000000    0.000000  \n",
       "75%      6.000000    1.000000    1.000000  \n",
       "max     12.000000    1.000000    1.000000  "
      ]
     },
     "execution_count": 35,
     "metadata": {},
     "output_type": "execute_result"
    }
   ],
   "source": [
    "malocussion.describe()"
   ]
  },
  {
   "cell_type": "markdown",
   "id": "066c39d4",
   "metadata": {},
   "source": [
    "## treatment - growth"
   ]
  },
  {
   "cell_type": "code",
   "execution_count": 4,
   "id": "666cb855",
   "metadata": {},
   "outputs": [
    {
     "data": {
      "text/plain": [
       "0.1471861471861472"
      ]
     },
     "execution_count": 4,
     "metadata": {},
     "output_type": "execute_result"
    }
   ],
   "source": [
    "##Naive treatment-growth ate estimator\n",
    "malocussion.Growth[malocussion.Treatment == 1].mean() - malocussion.Growth[malocussion.Treatment == 0].mean()"
   ]
  },
  {
   "cell_type": "code",
   "execution_count": 32,
   "id": "fd131feb",
   "metadata": {},
   "outputs": [
    {
     "name": "stdout",
     "output_type": "stream",
     "text": [
      "                            OLS Regression Results                            \n",
      "==============================================================================\n",
      "Dep. Variable:                 Growth   R-squared:                       0.047\n",
      "Model:                            OLS   Adj. R-squared:                  0.033\n",
      "Method:                 Least Squares   F-statistic:                     3.433\n",
      "Date:                Sun, 21 Apr 2024   Prob (F-statistic):             0.0350\n",
      "Time:                        12:48:20   Log-Likelihood:                -97.770\n",
      "No. Observations:                 143   AIC:                             201.5\n",
      "Df Residuals:                     140   BIC:                             210.4\n",
      "Df Model:                           2                                         \n",
      "Covariance Type:            nonrobust                                         \n",
      "==============================================================================\n",
      "                 coef    std err          t      P>|t|      [0.025      0.975]\n",
      "------------------------------------------------------------------------------\n",
      "Intercept      0.4623      0.086      5.382      0.000       0.292       0.632\n",
      "Treatment      0.2088      0.088      2.385      0.018       0.036       0.382\n",
      "dT            -0.0325      0.017     -1.894      0.060      -0.066       0.001\n",
      "==============================================================================\n",
      "Omnibus:                     1402.050   Durbin-Watson:                   1.240\n",
      "Prob(Omnibus):                  0.000   Jarque-Bera (JB):               20.118\n",
      "Skew:                           0.343   Prob(JB):                     4.28e-05\n",
      "Kurtosis:                       1.295   Cond. No.                         12.4\n",
      "==============================================================================\n",
      "\n",
      "Notes:\n",
      "[1] Standard Errors assume that the covariance matrix of the errors is correctly specified.\n"
     ]
    }
   ],
   "source": [
    "##ols regression ate estimator\n",
    "m = smf.ols('Growth ~ Treatment + dT', data=malocussion)\n",
    "fitted = m.fit()\n",
    "print(fitted.summary())"
   ]
  },
  {
   "cell_type": "markdown",
   "id": "afa4a277",
   "metadata": {},
   "source": [
    "As we see, according to P>|t|, treatment seems to be an statistically significant variable. On the other hand, it is not very powerful, ar r^2 of our regression is close to 0. "
   ]
  },
  {
   "cell_type": "code",
   "execution_count": 33,
   "id": "efca2d4d",
   "metadata": {},
   "outputs": [],
   "source": [
    "##Using causal inference library\n",
    "from causalinference import CausalModel\n",
    "adjustment_set = ['dT']\n",
    "\n",
    "causal = CausalModel(\n",
    "    Y=malocussion['Growth'].values, # outcome\n",
    "    D=malocussion['Treatment'].values, # treatment\n",
    "    X=malocussion[adjustment_set].values\n",
    ")"
   ]
  },
  {
   "cell_type": "code",
   "execution_count": 34,
   "id": "33664325",
   "metadata": {},
   "outputs": [
    {
     "name": "stdout",
     "output_type": "stream",
     "text": [
      "\n",
      "Treatment Effect Estimates: OLS\n",
      "\n",
      "                     Est.       S.e.          z      P>|z|      [95% Conf. int.]\n",
      "--------------------------------------------------------------------------------\n",
      "           ATE      0.202      0.087      2.338      0.019      0.033      0.372\n",
      "           ATC      0.190      0.101      1.883      0.060     -0.008      0.387\n",
      "           ATT      0.217      0.084      2.581      0.010      0.052      0.382\n",
      "\n"
     ]
    },
    {
     "name": "stderr",
     "output_type": "stream",
     "text": [
      "/Users/nikita/anaconda3/lib/python3.10/site-packages/causalinference/estimators/ols.py:21: FutureWarning: `rcond` parameter will change to the default of machine precision times ``max(M, N)`` where M and N are the input matrix dimensions.\n",
      "To use the future default and silence this warning we advise to pass `rcond=None`, to keep using the old, explicitly pass `rcond=-1`.\n",
      "  olscoef = np.linalg.lstsq(Z, Y)[0]\n"
     ]
    }
   ],
   "source": [
    "causal.est_via_ols()\n",
    "print(causal.estimates)"
   ]
  },
  {
   "cell_type": "code",
   "execution_count": 36,
   "id": "e155aaf6",
   "metadata": {},
   "outputs": [
    {
     "data": {
      "text/html": [
       "<div>\n",
       "<style scoped>\n",
       "    .dataframe tbody tr th:only-of-type {\n",
       "        vertical-align: middle;\n",
       "    }\n",
       "\n",
       "    .dataframe tbody tr th {\n",
       "        vertical-align: top;\n",
       "    }\n",
       "\n",
       "    .dataframe thead th {\n",
       "        text-align: right;\n",
       "    }\n",
       "</style>\n",
       "<table border=\"1\" class=\"dataframe\">\n",
       "  <thead>\n",
       "    <tr style=\"text-align: right;\">\n",
       "      <th></th>\n",
       "      <th>dANB</th>\n",
       "      <th>dPPPM</th>\n",
       "      <th>dIMPA</th>\n",
       "      <th>dCoA</th>\n",
       "      <th>dGoPg</th>\n",
       "      <th>dCoGo</th>\n",
       "      <th>dT</th>\n",
       "      <th>Growth</th>\n",
       "      <th>Treatment</th>\n",
       "      <th>e</th>\n",
       "    </tr>\n",
       "  </thead>\n",
       "  <tbody>\n",
       "    <tr>\n",
       "      <th>0</th>\n",
       "      <td>-3.2</td>\n",
       "      <td>-1.1</td>\n",
       "      <td>-4.2</td>\n",
       "      <td>1.0</td>\n",
       "      <td>4.0</td>\n",
       "      <td>3.7</td>\n",
       "      <td>5</td>\n",
       "      <td>0</td>\n",
       "      <td>0</td>\n",
       "      <td>0.34318</td>\n",
       "    </tr>\n",
       "    <tr>\n",
       "      <th>1</th>\n",
       "      <td>-0.6</td>\n",
       "      <td>-0.5</td>\n",
       "      <td>3.8</td>\n",
       "      <td>2.6</td>\n",
       "      <td>-0.1</td>\n",
       "      <td>1.4</td>\n",
       "      <td>3</td>\n",
       "      <td>1</td>\n",
       "      <td>0</td>\n",
       "      <td>0.42124</td>\n",
       "    </tr>\n",
       "    <tr>\n",
       "      <th>2</th>\n",
       "      <td>-1.6</td>\n",
       "      <td>-3.1</td>\n",
       "      <td>-6.0</td>\n",
       "      <td>4.3</td>\n",
       "      <td>4.2</td>\n",
       "      <td>7.1</td>\n",
       "      <td>5</td>\n",
       "      <td>0</td>\n",
       "      <td>0</td>\n",
       "      <td>0.34318</td>\n",
       "    </tr>\n",
       "    <tr>\n",
       "      <th>3</th>\n",
       "      <td>-1.1</td>\n",
       "      <td>-2.1</td>\n",
       "      <td>-12.1</td>\n",
       "      <td>14.1</td>\n",
       "      <td>20.7</td>\n",
       "      <td>17.5</td>\n",
       "      <td>9</td>\n",
       "      <td>0</td>\n",
       "      <td>0</td>\n",
       "      <td>0.34318</td>\n",
       "    </tr>\n",
       "    <tr>\n",
       "      <th>4</th>\n",
       "      <td>-1.1</td>\n",
       "      <td>0.0</td>\n",
       "      <td>-6.7</td>\n",
       "      <td>7.7</td>\n",
       "      <td>8.8</td>\n",
       "      <td>11.0</td>\n",
       "      <td>5</td>\n",
       "      <td>0</td>\n",
       "      <td>0</td>\n",
       "      <td>0.34318</td>\n",
       "    </tr>\n",
       "  </tbody>\n",
       "</table>\n",
       "</div>"
      ],
      "text/plain": [
       "   dANB  dPPPM  dIMPA  dCoA  dGoPg  dCoGo  dT  Growth  Treatment        e\n",
       "0  -3.2   -1.1   -4.2   1.0    4.0    3.7   5       0          0  0.34318\n",
       "1  -0.6   -0.5    3.8   2.6   -0.1    1.4   3       1          0  0.42124\n",
       "2  -1.6   -3.1   -6.0   4.3    4.2    7.1   5       0          0  0.34318\n",
       "3  -1.1   -2.1  -12.1  14.1   20.7   17.5   9       0          0  0.34318\n",
       "4  -1.1    0.0   -6.7   7.7    8.8   11.0   5       0          0  0.34318"
      ]
     },
     "execution_count": 36,
     "metadata": {},
     "output_type": "execute_result"
    }
   ],
   "source": [
    "##Using propensity score matching\n",
    "from sklearn.linear_model import LogisticRegression\n",
    "from sklearn.calibration import CalibratedClassifierCV\n",
    "\n",
    "# classifier to estimate the propensity score\n",
    "cls = LogisticRegression()\n",
    "\n",
    "# calibration of the classifier\n",
    "cls = CalibratedClassifierCV(cls)\n",
    "\n",
    "X = malocussion[['Growth']]\n",
    "y = malocussion['Treatment']\n",
    "cls.fit(X, y)\n",
    "malocussion['e'] = cls.predict_proba(X)[:,1].tolist()\n",
    "malocussion.head()"
   ]
  },
  {
   "cell_type": "code",
   "execution_count": 37,
   "id": "ac2df43a",
   "metadata": {},
   "outputs": [],
   "source": [
    "malocussion['w'] = malocussion['Treatment'] / malocussion['e'] + (1 - malocussion['Treatment']) / (1 - malocussion['e'])"
   ]
  },
  {
   "cell_type": "code",
   "execution_count": 38,
   "id": "fafe7124",
   "metadata": {},
   "outputs": [
    {
     "name": "stdout",
     "output_type": "stream",
     "text": [
      "                            WLS Regression Results                            \n",
      "==============================================================================\n",
      "Dep. Variable:                 Growth   R-squared:                       0.026\n",
      "Model:                            WLS   Adj. R-squared:                  0.012\n",
      "Method:                 Least Squares   F-statistic:                     1.858\n",
      "Date:                Sun, 21 Apr 2024   Prob (F-statistic):              0.160\n",
      "Time:                        19:12:56   Log-Likelihood:                -101.92\n",
      "No. Observations:                 143   AIC:                             209.8\n",
      "Df Residuals:                     140   BIC:                             218.7\n",
      "Df Model:                           2                                         \n",
      "Covariance Type:            nonrobust                                         \n",
      "==============================================================================\n",
      "                 coef    std err          t      P>|t|      [0.025      0.975]\n",
      "------------------------------------------------------------------------------\n",
      "Intercept      0.4879      0.094      5.175      0.000       0.301       0.674\n",
      "Treatment      0.1297      0.091      1.433      0.154      -0.049       0.309\n",
      "dT            -0.0320      0.018     -1.749      0.082      -0.068       0.004\n",
      "==============================================================================\n",
      "Omnibus:                     1332.975   Durbin-Watson:                   1.050\n",
      "Prob(Omnibus):                  0.000   Jarque-Bera (JB):               19.779\n",
      "Skew:                           0.294   Prob(JB):                     5.07e-05\n",
      "Kurtosis:                       1.275   Cond. No.                         13.9\n",
      "==============================================================================\n",
      "\n",
      "Notes:\n",
      "[1] Standard Errors assume that the covariance matrix of the errors is correctly specified.\n"
     ]
    }
   ],
   "source": [
    "m = smf.wls('Growth ~ Treatment + dT', data=malocussion, weights=malocussion['w'])\n",
    "fitted = m.fit()\n",
    "print(fitted.summary())"
   ]
  },
  {
   "cell_type": "markdown",
   "id": "8246727b",
   "metadata": {},
   "source": [
    "With this regression we see that treatment effect is neither powerful nor statistically significany"
   ]
  },
  {
   "cell_type": "markdown",
   "id": "0ae5182f",
   "metadata": {},
   "source": [
    "## treatment - dANb"
   ]
  },
  {
   "cell_type": "code",
   "execution_count": 15,
   "id": "46afc642",
   "metadata": {},
   "outputs": [
    {
     "data": {
      "text/plain": [
       "2.0287878787878784"
      ]
     },
     "execution_count": 15,
     "metadata": {},
     "output_type": "execute_result"
    }
   ],
   "source": [
    "##Naive treatment-growth ate estimator\n",
    "malocussion.dANB[malocussion.Treatment == 1].mean() - malocussion.dANB[malocussion.Treatment == 0].mean()"
   ]
  },
  {
   "cell_type": "code",
   "execution_count": 18,
   "id": "6756639f",
   "metadata": {},
   "outputs": [
    {
     "name": "stdout",
     "output_type": "stream",
     "text": [
      "                            OLS Regression Results                            \n",
      "==============================================================================\n",
      "Dep. Variable:                   dANB   R-squared:                       0.407\n",
      "Model:                            OLS   Adj. R-squared:                  0.398\n",
      "Method:                 Least Squares   F-statistic:                     48.04\n",
      "Date:                Sun, 21 Apr 2024   Prob (F-statistic):           1.31e-16\n",
      "Time:                        12:37:24   Log-Likelihood:                -251.17\n",
      "No. Observations:                 143   AIC:                             508.3\n",
      "Df Residuals:                     140   BIC:                             517.2\n",
      "Df Model:                           2                                         \n",
      "Covariance Type:            nonrobust                                         \n",
      "==============================================================================\n",
      "                 coef    std err          t      P>|t|      [0.025      0.975]\n",
      "------------------------------------------------------------------------------\n",
      "Intercept     -1.5600      0.181     -8.609      0.000      -1.918      -1.202\n",
      "Treatment      1.8560      0.240      7.724      0.000       1.381       2.331\n",
      "Growth         1.1740      0.244      4.812      0.000       0.692       1.656\n",
      "==============================================================================\n",
      "Omnibus:                        7.303   Durbin-Watson:                   2.122\n",
      "Prob(Omnibus):                  0.026   Jarque-Bera (JB):                7.911\n",
      "Skew:                           0.383   Prob(JB):                       0.0191\n",
      "Kurtosis:                       3.862   Cond. No.                         2.77\n",
      "==============================================================================\n",
      "\n",
      "Notes:\n",
      "[1] Standard Errors assume that the covariance matrix of the errors is correctly specified.\n"
     ]
    }
   ],
   "source": [
    "##ols regression ate estimator\n",
    "m = smf.ols('dANB ~ Treatment + Growth', data=malocussion)\n",
    "fitted = m.fit()\n",
    "print(fitted.summary())"
   ]
  },
  {
   "cell_type": "markdown",
   "id": "f537f4a2",
   "metadata": {},
   "source": [
    "As we see, both treatment and growth are statistically significant variables (and treatment coefficient is even slightly bigger). R^2 of 0.4 shows decent probabilistic abilities of our model as well"
   ]
  },
  {
   "cell_type": "code",
   "execution_count": 30,
   "id": "e38406b1",
   "metadata": {},
   "outputs": [],
   "source": [
    "##Using causal inference library\n",
    "adjustment_set = ['Growth']\n",
    "\n",
    "causal = CausalModel(\n",
    "    Y=malocussion['dANB'].values, # outcome\n",
    "    D=malocussion['Treatment'].values, # treatment\n",
    "    X=malocussion[adjustment_set].values\n",
    ")"
   ]
  },
  {
   "cell_type": "code",
   "execution_count": 31,
   "id": "d298fb54",
   "metadata": {},
   "outputs": [
    {
     "name": "stdout",
     "output_type": "stream",
     "text": [
      "\n",
      "Treatment Effect Estimates: OLS\n",
      "\n",
      "                     Est.       S.e.          z      P>|z|      [95% Conf. int.]\n",
      "--------------------------------------------------------------------------------\n",
      "           ATE      1.856      0.240      7.743      0.000      1.386      2.326\n",
      "           ATC      1.860      0.245      7.580      0.000      1.379      2.341\n",
      "           ATT      1.852      0.239      7.760      0.000      1.384      2.320\n",
      "\n"
     ]
    },
    {
     "name": "stderr",
     "output_type": "stream",
     "text": [
      "/Users/nikita/anaconda3/lib/python3.10/site-packages/causalinference/estimators/ols.py:21: FutureWarning: `rcond` parameter will change to the default of machine precision times ``max(M, N)`` where M and N are the input matrix dimensions.\n",
      "To use the future default and silence this warning we advise to pass `rcond=None`, to keep using the old, explicitly pass `rcond=-1`.\n",
      "  olscoef = np.linalg.lstsq(Z, Y)[0]\n"
     ]
    }
   ],
   "source": [
    "causal.est_via_ols()\n",
    "print(causal.estimates)"
   ]
  },
  {
   "cell_type": "code",
   "execution_count": 40,
   "id": "2ad7ea9c",
   "metadata": {},
   "outputs": [
    {
     "name": "stdout",
     "output_type": "stream",
     "text": [
      "\n",
      "Treatment Effect Estimates: OLS\n",
      "\n",
      "                     Est.       S.e.          z      P>|z|      [95% Conf. int.]\n",
      "--------------------------------------------------------------------------------\n",
      "           ATE      0.202      0.087      2.338      0.019      0.033      0.372\n",
      "           ATC      0.190      0.101      1.883      0.060     -0.008      0.387\n",
      "           ATT      0.217      0.084      2.581      0.010      0.052      0.382\n",
      "\n",
      "Treatment Effect Estimates: Matching\n",
      "\n",
      "                     Est.       S.e.          z      P>|z|      [95% Conf. int.]\n",
      "--------------------------------------------------------------------------------\n",
      "           ATE      0.320      0.120      2.678      0.007      0.086      0.554\n",
      "           ATC      0.338      0.155      2.179      0.029      0.034      0.641\n",
      "           ATT      0.300      0.130      2.307      0.021      0.045      0.554\n",
      "\n"
     ]
    },
    {
     "name": "stderr",
     "output_type": "stream",
     "text": [
      "/Users/nikita/anaconda3/lib/python3.10/site-packages/causalinference/estimators/matching.py:100: FutureWarning: `rcond` parameter will change to the default of machine precision times ``max(M, N)`` where M and N are the input matrix dimensions.\n",
      "To use the future default and silence this warning we advise to pass `rcond=None`, to keep using the old, explicitly pass `rcond=-1`.\n",
      "  return np.linalg.lstsq(X, Y)[0][1:]  # don't need intercept coef\n"
     ]
    }
   ],
   "source": [
    "causal.est_via_matching(weights='maha', bias_adj=True)\n",
    "print(causal.estimates)"
   ]
  },
  {
   "cell_type": "markdown",
   "id": "b1a9e94c",
   "metadata": {},
   "source": [
    "We see that other ways of estitmations give similar results"
   ]
  },
  {
   "cell_type": "code",
   "execution_count": null,
   "id": "edbd0ca8",
   "metadata": {},
   "outputs": [],
   "source": []
  }
 ],
 "metadata": {
  "kernelspec": {
   "display_name": "Python 3 (ipykernel)",
   "language": "python",
   "name": "python3"
  },
  "language_info": {
   "codemirror_mode": {
    "name": "ipython",
    "version": 3
   },
   "file_extension": ".py",
   "mimetype": "text/x-python",
   "name": "python",
   "nbconvert_exporter": "python",
   "pygments_lexer": "ipython3",
   "version": "3.10.9"
  }
 },
 "nbformat": 4,
 "nbformat_minor": 5
}
