{
 "cells": [
  {
   "cell_type": "markdown",
   "metadata": {},
   "source": [
    "# User routes on the site\n",
    "## Description\n",
    "**Clickstream** is a sequence of user actions on a website. It allows you to understand how users interact with the site. In this task, you need to find the most frequent custom routes.\n",
    "\n",
    "## Input data\n",
    "Input data is а table with clickstream data in file `hdfs:/data/clickstream.csv`.\n",
    "\n",
    "### Table structure\n",
    "* `user_id (int)` - Unique user identifier.\n",
    "* `session_id (int)` - Unique identifier for the user session. The user's session lasts until the identifier changes.\n",
    "* `event_type (string)` - Event type from the list:\n",
    "    * **page** - visit to the page\n",
    "    * **event** - any action on the page\n",
    "    * <b>&lt;custom&gt;</b> - string with any other type\n",
    "* `event_type (string)` - Page on the site.\n",
    "* `timestamp (int)` - Unix-timestamp of action.\n",
    "\n",
    "### Browser errors\n",
    "Errors can sometimes occur in the user's browser - after such an error appears, we can no longer trust the data of this session and all the following lines after the error or at the same time with it are considered corrupted and **should not be counted** in statistics.\n",
    "\n",
    "When an error occurs on the page, a random string containing the word **error** will be written to the `event_type` field.\n",
    "\n",
    "### Sample of user session\n",
    "<pre>\n",
    "+-------+----------+------------+----------+----------+\n",
    "|user_id|session_id|  event_type|event_page| timestamp|\n",
    "+-------+----------+------------+----------+----------+\n",
    "|    562|       507|        page|      main|1620494781|\n",
    "|    562|       507|       event|      main|1620494788|\n",
    "|    562|       507|       event|      main|1620494798|\n",
    "|    562|       507|        page|    family|1620494820|\n",
    "|    562|       507|       event|    family|1620494828|\n",
    "|    562|       507|        page|      main|1620494848|\n",
    "|    562|       507|wNaxLlerrorU|      main|1620494865|\n",
    "|    562|       507|       event|      main|1620494873|\n",
    "|    562|       507|        page|      news|1620494875|\n",
    "|    562|       507|        page|   tariffs|1620494876|\n",
    "|    562|       507|       event|   tariffs|1620494884|\n",
    "|    562|       514|        page|      main|1620728918|\n",
    "|    562|       514|       event|      main|1620729174|\n",
    "|    562|       514|        page|   archive|1620729674|\n",
    "|    562|       514|        page|     bonus|1620729797|\n",
    "|    562|       514|        page|   tariffs|1620731090|\n",
    "|    562|       514|       event|   tariffs|1620731187|\n",
    "+-------+----------+------------+----------+----------+\n",
    "</pre>\n",
    "\n",
    "#### Correct user routes for a given user:\n",
    "* **Session 507**: main-family-main\n",
    "* **Session 514**: main-archive-bonus-tariffs\n",
    "\n",
    "Route elements are ordered by the time they appear in the clickstream, from earliest to latest.\n",
    "\n",
    "The route must be accounted for completely before the end of the session or an error in the session.\n",
    "\n",
    "## Task\n",
    "You need to use the Spark SQL, Spark RDD and Spark DF interfaces to create a solution file, the lines of which contain **the 30 most frequent user routes** on the site.\n",
    "\n",
    "Each line of the file should contain the `route` and `count` values **separated by tabs**, where:\n",
    "* `route` - route on the site, consisting of pages separated by \"-\".\n",
    "* `count` - the number of user sessions in which this route was.\n",
    "\n",
    "The lines must be **ordered in descending order** of the `count` field.\n",
    "\n",
    "## Criteria\n",
    "You can get maximum of 3.5 points (final grade) for this assignment, depedning on the number of interface you manage to leverage. The criteria are as follows:\n",
    "\n",
    "* 0.5 points – Spark SQL solution with 1 query\n",
    "* 0.5 points – Spark SQL solution with <=2 queries\n",
    "* 0.5 points – Spark RDD solution\n",
    "* 0.5 points – Spark DF solution\n",
    "* 0.5 points – your solution algorithm is relatively optimized, i.e.: no O^2 or O^3 complexities; appropriate object usage; no data leaks etc. This is evaluated by staff.\n",
    "* 1 point – 1 on 1 screening session. During this session staff member can ask you questions regarding your solution logic, framework usage, questionable parts of your code etc. If your code is clean enough, the staff member can just ask you to solve a theoretical problem connected to Spark.\n"
   ]
  },
  {
   "cell_type": "code",
   "execution_count": 1,
   "metadata": {
    "tags": []
   },
   "outputs": [
    {
     "name": "stderr",
     "output_type": "stream",
     "text": [
      "Setting default log level to \"WARN\".\n",
      "To adjust logging level use sc.setLogLevel(newLevel). For SparkR, use setLogLevel(newLevel).\n",
      "2024-10-30 17:51:18,665 WARN yarn.Client: Neither spark.yarn.jars nor spark.yarn.archive is set, falling back to uploading libraries under SPARK_HOME.\n"
     ]
    }
   ],
   "source": [
    "# Import the findspark module to help with initializing Spark in Jupyter or other environments\n",
    "import findspark\n",
    "findspark.init()\n",
    "\n",
    "# Import the SparkSession class from the pyspark.sql module\n",
    "from pyspark.sql import SparkSession\n",
    "\n",
    "# Create a SparkSession\n",
    "ss = SparkSession.builder \\\n",
    "    .appName(\"MyApp\") \\\n",
    "    .config(\"spark.some.config.option\", \"config-value\") \\\n",
    "    .getOrCreate()"
   ]
  },
  {
   "cell_type": "code",
   "execution_count": 2,
   "metadata": {
    "tags": []
   },
   "outputs": [
    {
     "name": "stdout",
     "output_type": "stream",
     "text": [
      "copyFromLocal: `/clickstream.csv': File exists\n",
      "-rw-r--r--   1 jovyan supergroup     30.7 M 2024-10-30 17:49 /clickstream.csv\n"
     ]
    }
   ],
   "source": [
    "# Copy the local file 'clickstream.csv' to the Hadoop Distributed File System (HDFS) root directory\n",
    "! hadoop fs -copyFromLocal clickstream.csv /\n",
    "\n",
    "# List the contents of the HDFS root directory, specifically checking for 'clickstream.csv'\n",
    "! hadoop fs -ls -h /clickstream.csv\n"
   ]
  },
  {
   "cell_type": "code",
   "execution_count": 5,
   "metadata": {
    "tags": []
   },
   "outputs": [
    {
     "name": "stderr",
     "output_type": "stream",
     "text": [
      "                                                                                \r"
     ]
    },
    {
     "name": "stdout",
     "output_type": "stream",
     "text": [
      "+-------+----------+------------+----------+----------+\n",
      "|user_id|session_id|  event_type|event_page| timestamp|\n",
      "+-------+----------+------------+----------+----------+\n",
      "|    562|       507|        page|      main|1695584127|\n",
      "|    562|       507|       event|      main|1695584134|\n",
      "|    562|       507|       event|      main|1695584144|\n",
      "|    562|       507|       event|      main|1695584147|\n",
      "|    562|       507|wNaxLlerrorU|      main|1695584154|\n",
      "|    562|       507|       event|      main|1695584154|\n",
      "|    562|       507|       event|      main|1695584154|\n",
      "|    562|       507|       event|      main|1695584160|\n",
      "|    562|       507|        page|    rabota|1695584166|\n",
      "|    562|       507|       event|    rabota|1695584174|\n",
      "|    562|       507|       event|    rabota|1695584181|\n",
      "|    562|       507|       event|    rabota|1695584189|\n",
      "|    562|       507|        page|      main|1695584194|\n",
      "|    562|       507|       event|      main|1695584204|\n",
      "|    562|       507|       event|      main|1695584211|\n",
      "|    562|       507|       event|      main|1695584211|\n",
      "|    562|       507|       event|      main|1695584219|\n",
      "|    562|       507|        page|     bonus|1695584221|\n",
      "|    562|       507|        page|    online|1695584222|\n",
      "|    562|       507|       event|    online|1695584230|\n",
      "|   3539|       849|        page|      main|1695584238|\n",
      "|   3539|       849|       event|      main|1695584252|\n",
      "|   3539|       849|        page|    online|1695584261|\n",
      "|   3539|       849|        page|     bonus|1695584269|\n",
      "|   3539|       849|       event|     bonus|1695584278|\n",
      "|   3539|       849|        page|      news|1695584285|\n",
      "|   3539|       849|        page|      main|1695584291|\n",
      "|   3539|       849|       event|      main|1695584301|\n",
      "|   3539|       849|        page|      news|1695584306|\n",
      "|   3539|       849|       event|      news|1695584307|\n",
      "+-------+----------+------------+----------+----------+\n",
      "only showing top 30 rows\n",
      "\n"
     ]
    }
   ],
   "source": [
    "# Read a CSV file named 'clickstream.csv' into a DataFrame\n",
    "df = ss.read.csv(\"file:///home/jovyan/work/clickstream.csv\", sep=\"\\t\", header=True)\n",
    "\n",
    "# Display the first 100 rows of the DataFrame\n",
    "df.show(30)\n",
    "\n",
    "# Create a temporary view named 'clickstream' that allows for SQL queries to be run on this DataFrame\n",
    "df.createOrReplaceTempView(\"clickstream\")\n"
   ]
  },
  {
   "cell_type": "code",
   "execution_count": 34,
   "metadata": {},
   "outputs": [],
   "source": [
    "main_df = ss.sql(\"\"\"\n",
    "WITH step1 AS (\n",
    "    SELECT user_id, session_id, event_page, timestamp,\n",
    "           SUM(CASE WHEN LOWER(event_type) LIKE '%error%' THEN 1 ELSE 0 END) \n",
    "           OVER (PARTITION BY user_id, session_id ORDER BY timestamp) AS is_error\n",
    "    FROM clickstream\n",
    "),\n",
    "step2 AS (\n",
    "    SELECT user_id, session_id, event_page, timestamp,\n",
    "           LEAD(event_page) OVER (PARTITION BY user_id, session_id ORDER BY timestamp) AS next_page\n",
    "    FROM step1\n",
    "    WHERE is_error = 0\n",
    "),\n",
    "step3 AS (\n",
    "    SELECT user_id, session_id,\n",
    "           CONCAT_WS('-', COLLECT_LIST(event_page)) AS route\n",
    "    FROM step2\n",
    "    WHERE event_page != next_page OR next_page IS NULL\n",
    "    GROUP BY user_id, session_id\n",
    ")\n",
    "SELECT route, COUNT(*) AS route_count \n",
    "FROM step3 \n",
    "GROUP BY route \n",
    "ORDER BY route_count DESC \n",
    "LIMIT 10;\n",
    "\"\"\")"
   ]
  },
  {
   "cell_type": "code",
   "execution_count": 35,
   "metadata": {
    "tags": []
   },
   "outputs": [
    {
     "name": "stderr",
     "output_type": "stream",
     "text": [
      "[Stage 69:====================================================>   (13 + 1) / 14]\r"
     ]
    },
    {
     "name": "stdout",
     "output_type": "stream",
     "text": [
      "+-------------------+-----------+\n",
      "|              route|route_count|\n",
      "+-------------------+-----------+\n",
      "|               main|       8184|\n",
      "|       main-archive|       1112|\n",
      "|        main-rabota|       1047|\n",
      "|      main-internet|        897|\n",
      "|         main-bonus|        870|\n",
      "|          main-news|        769|\n",
      "|       main-tariffs|        677|\n",
      "|        main-online|        587|\n",
      "|         main-vklad|        517|\n",
      "|main-rabota-archive|        170|\n",
      "+-------------------+-----------+\n",
      "\n"
     ]
    },
    {
     "name": "stderr",
     "output_type": "stream",
     "text": [
      "                                                                                \r"
     ]
    }
   ],
   "source": [
    "main_df.show()"
   ]
  },
  {
   "cell_type": "code",
   "execution_count": 48,
   "metadata": {
    "tags": []
   },
   "outputs": [
    {
     "name": "stderr",
     "output_type": "stream",
     "text": [
      "                                                                                \r"
     ]
    }
   ],
   "source": [
    "from pyspark.sql import functions as F\n",
    "from pyspark.sql.window import Window\n",
    "\n",
    "# Load the clickstream data into a DataFrame\n",
    "clickstream_df = ss.read.csv(\"file:///home/jovyan/work/clickstream.csv\", header=True, inferSchema=True, \n",
    "                                sep=\"\\t\")"
   ]
  },
  {
   "cell_type": "code",
   "execution_count": 49,
   "metadata": {
    "tags": []
   },
   "outputs": [],
   "source": [
    "step1 = (clickstream_df\n",
    "         .withColumn(\"is_error\", \n",
    "                     F.sum(F.when(F.lower(F.col(\"event_type\")).like('%error%'), 1).otherwise(0))\n",
    "                     .over(Window.partitionBy(\"user_id\", \"session_id\").orderBy(\"timestamp\"))))"
   ]
  },
  {
   "cell_type": "code",
   "execution_count": 50,
   "metadata": {
    "tags": []
   },
   "outputs": [],
   "source": [
    "window = Window.partitionBy(\"user_id\", \"session_id\").orderBy(\"timestamp\")\n",
    "\n",
    "step2 = (step1 \n",
    "         .filter(step1.is_error == 0)\n",
    "         .withColumn(\"prev_page\", F.lag(\"event_page\").over(window))\n",
    ")"
   ]
  },
  {
   "cell_type": "code",
   "execution_count": 51,
   "metadata": {
    "tags": []
   },
   "outputs": [],
   "source": [
    "step3 = (step2\n",
    "         .filter((step2.event_page != step2.prev_page) | step2.prev_page.isNull())\n",
    "         .groupBy(\"user_id\", \"session_id\")\n",
    "         .agg(F.concat_ws('-', F.collect_list(\"event_page\")).alias(\"route\"))\n",
    ")"
   ]
  },
  {
   "cell_type": "code",
   "execution_count": 52,
   "metadata": {
    "tags": []
   },
   "outputs": [
    {
     "name": "stderr",
     "output_type": "stream",
     "text": [
      "[Stage 91:=============================================>           (8 + 2) / 10]\r"
     ]
    },
    {
     "name": "stdout",
     "output_type": "stream",
     "text": [
      "+-------------------+-----+\n",
      "|              route|count|\n",
      "+-------------------+-----+\n",
      "|               main| 8184|\n",
      "|       main-archive| 1112|\n",
      "|        main-rabota| 1047|\n",
      "|      main-internet|  897|\n",
      "|         main-bonus|  870|\n",
      "|          main-news|  769|\n",
      "|       main-tariffs|  676|\n",
      "|        main-online|  587|\n",
      "|         main-vklad|  518|\n",
      "|main-rabota-archive|  170|\n",
      "+-------------------+-----+\n",
      "\n"
     ]
    },
    {
     "name": "stderr",
     "output_type": "stream",
     "text": [
      "                                                                                \r"
     ]
    }
   ],
   "source": [
    "main_df = (step3\n",
    "            .groupBy(\"route\")\n",
    "            .agg(F.count(\"*\").alias(\"count\"))\n",
    "            .orderBy(F.col(\"count\").desc())\n",
    "            .limit(10)\n",
    ")\n",
    "main_df.show()"
   ]
  },
  {
   "cell_type": "code",
   "execution_count": 62,
   "metadata": {},
   "outputs": [],
   "source": [
    "import json"
   ]
  },
  {
   "cell_type": "code",
   "execution_count": 60,
   "metadata": {
    "tags": []
   },
   "outputs": [
    {
     "name": "stderr",
     "output_type": "stream",
     "text": [
      "                                                                                \r"
     ]
    }
   ],
   "source": [
    "routes_dict = {row['route']: row['count'] for row in top_routes}\n",
    "\n",
    "# output JSON file\n",
    "output_json_path = \"top10_routes.json\"\n",
    "with open(output_json_path, 'w') as json_file:\n",
    "    json.dump(routes_dict, json_file, indent=4)"
   ]
  },
  {
   "cell_type": "code",
   "execution_count": 61,
   "metadata": {
    "tags": []
   },
   "outputs": [
    {
     "data": {
      "text/plain": [
       "['{\"route\":\"main\",\"count\":8184}',\n",
       " '{\"route\":\"main-archive\",\"count\":1112}',\n",
       " '{\"route\":\"main-rabota\",\"count\":1047}',\n",
       " '{\"route\":\"main-internet\",\"count\":897}',\n",
       " '{\"route\":\"main-bonus\",\"count\":870}',\n",
       " '{\"route\":\"main-news\",\"count\":769}',\n",
       " '{\"route\":\"main-tariffs\",\"count\":676}',\n",
       " '{\"route\":\"main-online\",\"count\":587}',\n",
       " '{\"route\":\"main-vklad\",\"count\":518}',\n",
       " '{\"route\":\"main-rabota-archive\",\"count\":170}']"
      ]
     },
     "execution_count": 61,
     "metadata": {},
     "output_type": "execute_result"
    }
   ],
   "source": [
    "result"
   ]
  },
  {
   "cell_type": "code",
   "execution_count": 65,
   "metadata": {
    "tags": []
   },
   "outputs": [],
   "source": [
    "with open(\"/home/jovyan/work/result.json\", \"w\") as f:\n",
    "    json.dump(result, f)"
   ]
  },
  {
   "cell_type": "code",
   "execution_count": null,
   "metadata": {},
   "outputs": [],
   "source": [
    "!curl -F file=@result.json 51.250.123.136:80/MDS-LSML1/nbobylev/w6/1"
   ]
  }
 ],
 "metadata": {
  "coursera": {
   "schema_names": [
    "week-4-spark-homework"
   ]
  },
  "kernelspec": {
   "display_name": "Python 3 (ipykernel)",
   "language": "python",
   "name": "python3"
  },
  "language_info": {
   "codemirror_mode": {
    "name": "ipython",
    "version": 3
   },
   "file_extension": ".py",
   "mimetype": "text/x-python",
   "name": "python",
   "nbconvert_exporter": "python",
   "pygments_lexer": "ipython3",
   "version": "3.10.9"
  },
  "vscode": {
   "interpreter": {
    "hash": "31f2aee4e71d21fbe5cf8b01ff0e069b9275f58929596ceb00d14d90e3e16cd6"
   }
  }
 },
 "nbformat": 4,
 "nbformat_minor": 4
}
